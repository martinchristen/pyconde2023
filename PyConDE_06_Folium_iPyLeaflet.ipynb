{
 "cells": [
  {
   "cell_type": "markdown",
   "metadata": {},
   "source": [
    "# Part 6a: Creating Interactive Maps with Folium\n",
    "\n",
    "Folium is a Python library that allows you to create interactive maps using the Leaflet JavaScript library. It provides an easy-to-use interface for rendering maps, adding markers, and creating interactive visualizations.\n",
    "\n",
    "https://python-visualization.github.io/folium/\n"
   ]
  },
  {
   "cell_type": "code",
   "execution_count": null,
   "metadata": {},
   "outputs": [],
   "source": [
    "import folium"
   ]
  },
  {
   "cell_type": "code",
   "execution_count": null,
   "metadata": {},
   "outputs": [],
   "source": [
    "m = folium.Map(location=[52.52074,13.416415], zoom_start=8)\n",
    "m"
   ]
  },
  {
   "cell_type": "markdown",
   "metadata": {},
   "source": [
    "Folium provides a variety of built-in tilesets (base maps) that you can use for your map visualization. These tilesets come from different sources and have different visual styles. Some of the popular built-in tilesets include:\n",
    "\n",
    "* **OpenStreetMap** (default): Open-source maps created by contributors around the world.\n",
    "* **Stamen Terrain**: A terrain map with hill shading and natural vegetation colors from Stamen Design.\n",
    "* **Stamen Toner**: A high-contrast, black-and-white map from Stamen Design.\n",
    "* **Stamen Watercolor**: A watercolor-style map from Stamen Design.\n",
    "* **CartoDB Positron**: A light and clean base map from CartoDB.\n",
    "* **CartoDB Dark_Matter**: A dark and high-contrast base map from CartoDB.\n"
   ]
  },
  {
   "cell_type": "code",
   "execution_count": null,
   "metadata": {},
   "outputs": [],
   "source": [
    "m = folium.Map(location=[52.52074,13.416415],\n",
    "           tiles='Stamen Watercolor', \n",
    "           zoom_start=8)\n",
    "m"
   ]
  },
  {
   "cell_type": "markdown",
   "metadata": {
    "tags": []
   },
   "source": [
    "### Custom Layers\n",
    "\n",
    "There are other tile services available, some require API keys.\n",
    "\n",
    "Keep in mind that using custom tilesets may have additional usage limitations or terms of service. Always review the provider's documentation and ensure you comply with their usage policies."
   ]
  },
  {
   "cell_type": "code",
   "execution_count": null,
   "metadata": {
    "tags": []
   },
   "outputs": [],
   "source": [
    "tile_url = \"https://server.arcgisonline.com/ArcGIS/rest/services/World_Street_Map/MapServer/tile/{z}/{y}/{x}\"\n",
    "\n",
    "m = folium.Map(location=[52.52074,13.416415], zoom_start=8, tiles=tile_url, attr=\"Esri\")\n",
    "m"
   ]
  },
  {
   "cell_type": "code",
   "execution_count": null,
   "metadata": {},
   "outputs": [],
   "source": [
    "tile_url=\"https://server.arcgisonline.com/ArcGIS/rest/services/World_Imagery/MapServer/tile/{z}/{y}/{x}\"\n",
    "\n",
    "m = folium.Map(location=[52.52074,13.416415], zoom_start=8, tiles=tile_url, attr=\"Esri\")\n",
    "m"
   ]
  },
  {
   "cell_type": "code",
   "execution_count": null,
   "metadata": {},
   "outputs": [],
   "source": [
    "tile_url=\"https://wmts.geo.admin.ch/1.0.0/ch.swisstopo.pixelkarte-farbe/default/current/3857/{z}/{x}/{y}.jpeg\"\n",
    "\n",
    "m = folium.Map(location=[52.52074,13.416415], zoom_start=8, tiles=tile_url, attr=\"Swisstopo\")\n",
    "m"
   ]
  },
  {
   "cell_type": "code",
   "execution_count": null,
   "metadata": {},
   "outputs": [],
   "source": [
    "tile_url=\"https://wmts.geo.admin.ch/1.0.0/ch.swisstopo.swissimage/default/current/3857/{z}/{x}/{y}.jpeg\"\n",
    "\n",
    "m = folium.Map(location=[52.52074,13.416415], zoom_start=8, tiles=tile_url, attr=\"Swisstopo\")\n",
    "m"
   ]
  },
  {
   "cell_type": "markdown",
   "metadata": {},
   "source": [
    "You can create a map with multiple layers and provide the option to switch between them using the LayerControl feature in Folium."
   ]
  },
  {
   "cell_type": "code",
   "execution_count": null,
   "metadata": {},
   "outputs": [],
   "source": [
    "# Create an empty map with no tiles\n",
    "map_with_layers = folium.Map(location=[52.52074,13.416415], zoom_start=8, control_scale=True)\n",
    "\n",
    "# Add OpenStreetMap layer\n",
    "openstreetmap_layer = folium.TileLayer('OpenStreetMap')\n",
    "openstreetmap_layer.add_to(map_with_layers)\n",
    "\n",
    "# Add Stamen Terrain layer\n",
    "stamen_terrain_layer = folium.TileLayer('Stamen Terrain')\n",
    "stamen_terrain_layer.add_to(map_with_layers)\n",
    "\n",
    "# Add Esri World StreetMap\n",
    "tile_url = \"https://server.arcgisonline.com/ArcGIS/rest/services/World_Street_Map/MapServer/tile/{z}/{y}/{x}\"\n",
    "esri_layer = folium.TileLayer(name=\"Esri World_Street_Map\", tiles=tile_url, attr=\"Esri\")\n",
    "esri_layer.add_to(map_with_layers)\n",
    "\n",
    "# Add Swisstopo Pixelkarte\n",
    "tile_url=\"https://wmts.geo.admin.ch/1.0.0/ch.swisstopo.pixelkarte-farbe/default/current/3857/{z}/{x}/{y}.jpeg\"\n",
    "st_layer = folium.TileLayer(name=\"Swisstopo PK\", tiles=tile_url, attr=\"swisstopo\")\n",
    "st_layer.add_to(map_with_layers)\n",
    "\n",
    "# Add LayerControl to switch between layers\n",
    "folium.LayerControl().add_to(map_with_layers)\n",
    "\n",
    "# Display the map\n",
    "map_with_layers"
   ]
  },
  {
   "cell_type": "markdown",
   "metadata": {},
   "source": [
    "### Adding Markers"
   ]
  },
  {
   "cell_type": "code",
   "execution_count": null,
   "metadata": {},
   "outputs": [],
   "source": [
    "m = folium.Map(location=[47.37825,8.5367835], zoom_start=16)\n",
    "\n",
    "folium.Marker([47.37695,8.5387885], popup=\"Hotel <b>Schweizerhof</b><br/><br/>This hotel is located in the center\").add_to(m)\n",
    "folium.Marker([47.376386,8.5386506], popup=\"Hotel St. Gotthard\").add_to(m)\n",
    "m"
   ]
  },
  {
   "cell_type": "markdown",
   "metadata": {},
   "source": [
    "### Using Markers with FontAwesome (\"fa\")\n",
    "\n",
    "https://fontawesome.com/icons?d=gallery&m=free"
   ]
  },
  {
   "cell_type": "code",
   "execution_count": null,
   "metadata": {},
   "outputs": [],
   "source": [
    "m = folium.Map(location=[47.37825,8.5367835], zoom_start=16)\n",
    "\n",
    "folium.Marker([47.37695,8.5387885], \n",
    "              popup=\"Hotel Schweizerhof\",\n",
    "              icon=folium.Icon(color=\"red\", prefix=\"fa\", icon=\"hotel\")).add_to(m)\n",
    "\n",
    "folium.Marker([47.376386,8.5386506], \n",
    "              popup=\"Hotel St. Gotthard\",\n",
    "              icon=folium.Icon(color=\"green\", prefix=\"fa\", icon=\"hotel\")).add_to(m)\n",
    "\n",
    "folium.Marker([47.376192, 8.540005], \n",
    "              popup=\"Hotel Townhouse\", \n",
    "              icon=folium.Icon(color=\"blue\", prefix=\"fa\", icon=\"beer\")).add_to(m)\n",
    "\n",
    "m"
   ]
  },
  {
   "cell_type": "markdown",
   "metadata": {},
   "source": [
    "### Saving Maps as HTML\n",
    "\n",
    "Example: Mountain Tops"
   ]
  },
  {
   "cell_type": "code",
   "execution_count": null,
   "metadata": {},
   "outputs": [],
   "source": [
    "m = folium.Map(location=[45.922513343092916, 7.835574679184418], zoom_start=9)\n",
    "\n",
    "folium.Marker([45.922513343092916, 7.835574679184418], popup='Liskamm: 4527m').add_to(m)\n",
    "folium.Marker([45.941997570720375, 7.869820276613906], popup='Nordend: 4609m').add_to(m)\n",
    "folium.Marker([46.10902325837147, 7.863895545667632], popup='Nadelhorn: 4327m').add_to(m)\n",
    "folium.Marker([45.932186337151684, 7.8714190183674555], popup='Zumsteinspitze: 4563m').add_to(m)\n",
    "folium.Marker([46.08336532442726, 7.857296913890337], popup='Täschhorn: 4491m').add_to(m)\n",
    "folium.Marker([45.91669904679932, 7.863563975062021], popup='Ludwigshöhe: 4341m').add_to(m)\n",
    "folium.Marker([45.93756139078208, 7.299279971077615], popup='Grand Combin de Grafeneire: 4314m').add_to(m)\n",
    "folium.Marker([45.922513343092916, 7.835574679184418], popup='Lyskamm: 4527m').add_to(m)\n",
    "folium.Marker([45.93683662540408, 7.866814344981748], popup='Dufourspitze (Pointe Dufour): 4634m').add_to(m)\n",
    "folium.Marker([46.10129664518156, 7.716156885858494], popup='Weisshorn: 4506m').add_to(m)\n",
    "folium.Marker([45.976340506120614, 7.658691510512221], popup='Monte Cervino: 4478m').add_to(m)\n",
    "folium.Marker([45.976340506120614, 7.658691510512221], popup='Matterhorn: 4478m').add_to(m)\n",
    "folium.Marker([45.93674004101607, 7.86855410887458], popup='Grenzgipfel: 4618m').add_to(m)\n",
    "folium.Marker([45.92712756883081, 7.876921984235257], popup='Signalkuppe (Punta Gnifetti): 4554m').add_to(m)\n",
    "folium.Marker([46.093839189553464, 7.858928716434883], popup='Dom: 4545m').add_to(m)\n",
    "folium.Marker([46.107109586833495, 7.711724522200983], popup='Grand Gendarme: 4331m').add_to(m)\n",
    "folium.Marker([45.919638502715564, 7.8711910872756405], popup='Parrotspitze: 4432m').add_to(m)\n",
    "folium.Marker([46.093839189553464, 7.858928716434883], popup='Mischabel: 4545m').add_to(m)\n",
    "folium.Marker([46.03426257063022, 7.61204033560156], popup='Dent Blanche: 4357m').add_to(m)\n",
    "\n",
    "m.save(\"geodata/mountain_tops.html\")\n",
    "m"
   ]
  },
  {
   "cell_type": "markdown",
   "metadata": {},
   "source": [
    "### Draw a Polygon\n",
    "\n",
    "Folium supports a variety of vector and marker objects that can be used to create custom map visualizations. Let's start with a polygon."
   ]
  },
  {
   "cell_type": "code",
   "execution_count": null,
   "metadata": {},
   "outputs": [],
   "source": [
    "from folium.vector_layers import Polygon\n",
    "\n",
    "\n",
    "map_with_polygon = folium.Map(location=[46.8, 8.2], zoom_start=8)\n",
    "\n",
    "\n",
    "polygon_coordinates = [\n",
    "    [46.804207, 7.146025],\n",
    "    [46.839889, 7.742111],\n",
    "    [47.206267, 8.160829],\n",
    "    [47.379335, 7.868284],\n",
    "    [47.606719, 8.471438],\n",
    "    [47.559988, 9.018615],\n",
    "    [46.971252, 9.472410],\n",
    "    [46.492540, 9.137662],\n",
    "    [46.233174, 7.377228],\n",
    "    [46.609208, 6.889632]\n",
    "]\n",
    "\n",
    "polygon = Polygon(locations=polygon_coordinates, color='blue', fill=True, fill_color='blue', fill_opacity=0.3)\n",
    "\n",
    "\n",
    "polygon.add_to(map_with_polygon)\n",
    "\n",
    "\n",
    "map_with_polygon"
   ]
  },
  {
   "cell_type": "markdown",
   "metadata": {},
   "source": [
    "### Add a Popup to the polygon\n",
    "\n",
    "You can add a popup with custom HTML content to an existing object which behaves like a marker."
   ]
  },
  {
   "cell_type": "code",
   "execution_count": null,
   "metadata": {},
   "outputs": [],
   "source": [
    "from folium.vector_layers import Polygon\n",
    "from folium import Popup\n",
    "\n",
    "\n",
    "m = folium.Map(location=[46.8, 8.2], zoom_start=8)\n",
    "\n",
    "polygon_coordinates = [\n",
    "    [46.804207, 7.146025],\n",
    "    [46.839889, 7.742111],\n",
    "    [47.206267, 8.160829],\n",
    "    [47.379335, 7.868284],\n",
    "    [47.606719, 8.471438],\n",
    "    [47.559988, 9.018615],\n",
    "    [46.971252, 9.472410],\n",
    "    [46.492540, 9.137662],\n",
    "    [46.233174, 7.377228],\n",
    "    [46.609208, 6.889632]\n",
    "]\n",
    "\n",
    "polygon = Polygon(locations=polygon_coordinates, color='blue', fill=True, fill_color='blue', fill_opacity=0.3)\n",
    "polygon.add_to(m)\n",
    "\n",
    "\n",
    "popup = Popup('This is a popup. It may contain HTML<br/><br/><center><img src=\"https://images.freeimages.com/images/previews/ac9/railway-hdr-1361893.jpg\" width=\"120px\"></img></center><br/>Hello World', max_width=150)\n",
    "#attach it to the polygon\n",
    "polygon.add_child(popup)\n",
    "\n",
    "\n",
    "m"
   ]
  },
  {
   "cell_type": "markdown",
   "metadata": {},
   "source": [
    "### Draw a Polygon, Circle, and Line"
   ]
  },
  {
   "cell_type": "code",
   "execution_count": null,
   "metadata": {},
   "outputs": [],
   "source": [
    "from folium.vector_layers import Polygon, PolyLine\n",
    "from folium import CircleMarker\n",
    "\n",
    "m = folium.Map(location=[46.8, 8.2], zoom_start=8)\n",
    "\n",
    "polygon_coordinates = [\n",
    "    [46.804207, 7.146025],\n",
    "    [46.839889, 7.742111],\n",
    "    [47.206267, 8.160829],\n",
    "    [47.379335, 7.868284],\n",
    "    [47.606719, 8.471438],\n",
    "    [47.559988, 9.018615],\n",
    "    [46.971252, 9.472410],\n",
    "    [46.492540, 9.137662],\n",
    "    [46.233174, 7.377228],\n",
    "    [46.609208, 6.889632]\n",
    "]\n",
    "\n",
    "# Add polygon\n",
    "polygon = Polygon(locations=polygon_coordinates, color='blue', fill=True, fill_color='blue', fill_opacity=0.3)\n",
    "\n",
    "# add red circle\n",
    "circle = CircleMarker(location=[46.9480, 7.4474], radius=100, color='red', fill=True, fill_color='red', fill_opacity=0.5)\n",
    "circle.add_to(m)\n",
    "\n",
    "# add a line\n",
    "line_coordinates = [\n",
    "    [47.5596, 7.5886],\n",
    "    [46.2044, 6.1432]\n",
    "]\n",
    "\n",
    "green_line = PolyLine(locations=line_coordinates, color='green', weight=5)\n",
    "green_line.add_to(m)\n",
    "\n",
    "polygon.add_to(m)\n",
    "\n",
    "\n",
    "m"
   ]
  },
  {
   "cell_type": "markdown",
   "metadata": {},
   "source": [
    "Geodesic Line ? Yes, now we can draw our geodesic line from before!"
   ]
  },
  {
   "cell_type": "code",
   "execution_count": 15,
   "metadata": {},
   "outputs": [],
   "source": [
    "import pyproj\n",
    "\n",
    "g = pyproj.Geod(ellps='WGS84')\n",
    "\n",
    "# BCC\n",
    "startlong = 13.416415945285419\n",
    "startlat = 52.52074329495131\n",
    "\n",
    "# New York\n",
    "endlong = -74.001457\n",
    "endlat = 40.7094328\n",
    "\n",
    "lonlats = g.npts(startlong, startlat, endlong, endlat, 100)\n",
    "lonlats = [(startlong, startlat)] + lonlats +  [(endlong, endlat)]  ## add start and end point"
   ]
  },
  {
   "cell_type": "markdown",
   "metadata": {},
   "source": [
    "Switch Longitudes and Latitudes in List. \n",
    "I think using a list comprehension is the easiest way:"
   ]
  },
  {
   "cell_type": "code",
   "execution_count": 16,
   "metadata": {},
   "outputs": [],
   "source": [
    "latlons = [ [v[1],v[0]] for v in lonlats]"
   ]
  },
  {
   "cell_type": "code",
   "execution_count": 18,
   "metadata": {},
   "outputs": [
    {
     "data": {
      "text/html": [
       "<div style=\"width:100%;\"><div style=\"position:relative;width:100%;height:0;padding-bottom:60%;\"><span style=\"color:#565656\">Make this Notebook Trusted to load map: File -> Trust Notebook</span><iframe srcdoc=\"&lt;!DOCTYPE html&gt;\n",
       "&lt;html&gt;\n",
       "&lt;head&gt;\n",
       "    \n",
       "    &lt;meta http-equiv=&quot;content-type&quot; content=&quot;text/html; charset=UTF-8&quot; /&gt;\n",
       "    \n",
       "        &lt;script&gt;\n",
       "            L_NO_TOUCH = false;\n",
       "            L_DISABLE_3D = false;\n",
       "        &lt;/script&gt;\n",
       "    \n",
       "    &lt;style&gt;html, body {width: 100%;height: 100%;margin: 0;padding: 0;}&lt;/style&gt;\n",
       "    &lt;style&gt;#map {position:absolute;top:0;bottom:0;right:0;left:0;}&lt;/style&gt;\n",
       "    &lt;script src=&quot;https://cdn.jsdelivr.net/npm/leaflet@1.9.3/dist/leaflet.js&quot;&gt;&lt;/script&gt;\n",
       "    &lt;script src=&quot;https://code.jquery.com/jquery-1.12.4.min.js&quot;&gt;&lt;/script&gt;\n",
       "    &lt;script src=&quot;https://cdn.jsdelivr.net/npm/bootstrap@5.2.2/dist/js/bootstrap.bundle.min.js&quot;&gt;&lt;/script&gt;\n",
       "    &lt;script src=&quot;https://cdnjs.cloudflare.com/ajax/libs/Leaflet.awesome-markers/2.0.2/leaflet.awesome-markers.js&quot;&gt;&lt;/script&gt;\n",
       "    &lt;link rel=&quot;stylesheet&quot; href=&quot;https://cdn.jsdelivr.net/npm/leaflet@1.9.3/dist/leaflet.css&quot;/&gt;\n",
       "    &lt;link rel=&quot;stylesheet&quot; href=&quot;https://cdn.jsdelivr.net/npm/bootstrap@5.2.2/dist/css/bootstrap.min.css&quot;/&gt;\n",
       "    &lt;link rel=&quot;stylesheet&quot; href=&quot;https://netdna.bootstrapcdn.com/bootstrap/3.0.0/css/bootstrap.min.css&quot;/&gt;\n",
       "    &lt;link rel=&quot;stylesheet&quot; href=&quot;https://cdn.jsdelivr.net/npm/@fortawesome/fontawesome-free@6.2.0/css/all.min.css&quot;/&gt;\n",
       "    &lt;link rel=&quot;stylesheet&quot; href=&quot;https://cdnjs.cloudflare.com/ajax/libs/Leaflet.awesome-markers/2.0.2/leaflet.awesome-markers.css&quot;/&gt;\n",
       "    &lt;link rel=&quot;stylesheet&quot; href=&quot;https://cdn.jsdelivr.net/gh/python-visualization/folium/folium/templates/leaflet.awesome.rotate.min.css&quot;/&gt;\n",
       "    \n",
       "            &lt;meta name=&quot;viewport&quot; content=&quot;width=device-width,\n",
       "                initial-scale=1.0, maximum-scale=1.0, user-scalable=no&quot; /&gt;\n",
       "            &lt;style&gt;\n",
       "                #map_4093cc18d26abddd5b870bdc47c756d4 {\n",
       "                    position: relative;\n",
       "                    width: 100.0%;\n",
       "                    height: 100.0%;\n",
       "                    left: 0.0%;\n",
       "                    top: 0.0%;\n",
       "                }\n",
       "                .leaflet-container { font-size: 1rem; }\n",
       "            &lt;/style&gt;\n",
       "        \n",
       "&lt;/head&gt;\n",
       "&lt;body&gt;\n",
       "    \n",
       "    \n",
       "            &lt;div class=&quot;folium-map&quot; id=&quot;map_4093cc18d26abddd5b870bdc47c756d4&quot; &gt;&lt;/div&gt;\n",
       "        \n",
       "&lt;/body&gt;\n",
       "&lt;script&gt;\n",
       "    \n",
       "    \n",
       "            var map_4093cc18d26abddd5b870bdc47c756d4 = L.map(\n",
       "                &quot;map_4093cc18d26abddd5b870bdc47c756d4&quot;,\n",
       "                {\n",
       "                    center: [50.0, -30.0],\n",
       "                    crs: L.CRS.EPSG3857,\n",
       "                    zoom: 3,\n",
       "                    zoomControl: true,\n",
       "                    preferCanvas: false,\n",
       "                }\n",
       "            );\n",
       "\n",
       "            \n",
       "\n",
       "        \n",
       "    \n",
       "            var tile_layer_ccd9c3accd74eeb01acaeb1a67b71e8f = L.tileLayer(\n",
       "                &quot;https://{s}.tile.openstreetmap.org/{z}/{x}/{y}.png&quot;,\n",
       "                {&quot;attribution&quot;: &quot;Data by \\u0026copy; \\u003ca target=\\&quot;_blank\\&quot; href=\\&quot;http://openstreetmap.org\\&quot;\\u003eOpenStreetMap\\u003c/a\\u003e, under \\u003ca target=\\&quot;_blank\\&quot; href=\\&quot;http://www.openstreetmap.org/copyright\\&quot;\\u003eODbL\\u003c/a\\u003e.&quot;, &quot;detectRetina&quot;: false, &quot;maxNativeZoom&quot;: 18, &quot;maxZoom&quot;: 18, &quot;minZoom&quot;: 0, &quot;noWrap&quot;: false, &quot;opacity&quot;: 1, &quot;subdomains&quot;: &quot;abc&quot;, &quot;tms&quot;: false}\n",
       "            ).addTo(map_4093cc18d26abddd5b870bdc47c756d4);\n",
       "        \n",
       "    \n",
       "            var poly_line_f63a59464a24ad1acc9f15999ddd2543 = L.polyline(\n",
       "                [[52.52074329495131, 13.416415945285419], [52.768058990651475, 12.572653246015486], [53.00929614181941, 11.719393363742665], [53.2443339472312, 10.856689106781072], [53.473051662083634, 9.984607834868724], [53.695328806652014, 9.10323203256706], [53.91104538636509, 8.212659853944857], [54.120082122940374, 7.313005632688848], [54.32232069610683, 6.404400351580752], [54.51764399531941, 5.486992065133562], [54.7059363807434, 4.560946269098032], [54.88708395265523, 3.6264462105421345], [55.06097482827419, 2.683693132279803], [55.22749942490662, 1.7329064455872025], [55.38655074815279, 0.7743238254028615], [55.53802468379967, -0.19179877743437324], [55.681820291901765, -1.165187211894489], [55.817840101439664, -2.14554929483109], [55.94599040384439, -3.132575075170614], [56.066181543587966, -4.125937197194244], [56.17832820396825, -5.125291365024786], [56.28234968616227, -6.1302769094799], [56.378170179588466, -7.140517457424938], [56.46571902160679, -8.155621702671155], [56.54493094459721, -9.175184276330576], [56.6157463084941, -10.198786713378006], [56.67811131691553, -11.225998511003123], [56.73197821511439, -12.256378273181667], [56.7773054680907, -13.289474934778159], [56.81405791734157, -14.324829057434748], [56.842206914885175, -15.361974188524101], [56.861730433376565, -16.400438273568955], [56.872613151331635, -17.439745111778223], [56.87484651269214, -18.479415843732944], [56.868428760190845, -19.518970459792722], [56.85336494221331, -20.557929317491936], [56.82966689309342, -21.59581465606478], [56.79735318702246, -22.632152096278954], [56.756449065990985, -23.666472113972933], [56.706986342414936, -24.698311476070916], [56.64900327731988, -25.72721462838931], [56.58254443516493, -26.75273502523191], [56.50766051657913, -27.774436391586352], [56.42440817045365, -28.791893909660406], [56.33284978698291, -29.804695322515517], [56.23305327337256, -30.812441948644487], [56.125091814033254, -31.81474960247699], [56.0090436171541, -32.811249416960194], [55.8849916495992, -33.80158856552869], [55.75302336209557, -34.78543088192839], [55.6132304066806, -35.762457377472685], [55.46570834835511, -36.73236665637016], [55.31055637284394, -37.694875230755386], [55.1478769923034, -38.64971773796509], [54.97777575073442, -39.596647063423276], [54.80036093076567, -40.53543437322055], [54.61574326336393, -41.46586906109356], [54.42403564191199, -42.38775861502505], [54.2253528419697, -43.30092840909711], [54.01981124790529, -44.205221426537506], [53.80752858745067, -45.100497920111394], [53.58862367510268, -45.98663501612785], [53.363216165159365, -46.86352626836468], [53.13142631505182, -47.73108116816911], [52.8933747595071, -48.5892246168785], [52.64918229595823, -49.43789636652939], [52.398969681504276, -50.27705043459743], [52.14285744161796, -51.10665449823958], [51.88096569070005, -51.92668927320696], [51.6134139644903, -52.73714788226508], [51.34032106426343, -53.53803521760861], [51.061804912665835, -54.32936730139714], [50.77798242098447, -55.11117064816962], [50.48896936758334, -55.88348163252995], [50.19488028719501, -56.64634586513151], [49.89582837071386, -57.39981757963632], [49.591925375105006, -58.143959032982636], [49.28328154301574, -58.87883992096769], [48.970005531656334, -59.60453681084462], [48.65220435050226, -60.32113259234089], [48.32998330736042, -61.02871594823601], [48.003445962337075, -61.72738084538605], [47.67269408924454, -62.41722604685371], [47.33782764398636, -63.09835464559433], [46.998944739466936, -63.77087361996027], [46.65614162658029, -64.43489341111825], [46.30951268084337, -65.09052752232508], [45.959150394252624, -65.73789213987618], [45.60514537195671, -66.37710577542809], [45.247586333353965, -67.00828892929741], [44.88656011723967, -67.63156377425655], [44.52215169064563, -68.24705385927734], [44.15444416103192, -68.85488383261642], [43.78351879150871, -69.45517918359167], [43.40945501878385, -70.04806600236356], [43.032330473549585, -70.6336707570106], [42.65222100303964, -71.2121200871691], [42.269200695504665, -71.78354061349881], [41.88334190637091, -72.3480587622319], [41.49471528586343, -72.90580060406376], [41.103389807890316, -73.45689170665199], [40.7094328, -74.001457]],\n",
       "                {&quot;bubblingMouseEvents&quot;: true, &quot;color&quot;: &quot;blue&quot;, &quot;dashArray&quot;: null, &quot;dashOffset&quot;: null, &quot;fill&quot;: false, &quot;fillColor&quot;: &quot;blue&quot;, &quot;fillOpacity&quot;: 0.2, &quot;fillRule&quot;: &quot;evenodd&quot;, &quot;lineCap&quot;: &quot;round&quot;, &quot;lineJoin&quot;: &quot;round&quot;, &quot;noClip&quot;: false, &quot;opacity&quot;: 1.0, &quot;smoothFactor&quot;: 1.0, &quot;stroke&quot;: true, &quot;weight&quot;: 4}\n",
       "            ).addTo(map_4093cc18d26abddd5b870bdc47c756d4);\n",
       "        \n",
       "    \n",
       "            var marker_90b90641dac5397d4036680ec53808ba = L.marker(\n",
       "                [52.52074329495131, 13.416415945285419],\n",
       "                {}\n",
       "            ).addTo(map_4093cc18d26abddd5b870bdc47c756d4);\n",
       "        \n",
       "    \n",
       "        var popup_58cd199f270852ea9d2f032435029154 = L.popup({&quot;maxWidth&quot;: &quot;100%&quot;});\n",
       "\n",
       "        \n",
       "            \n",
       "                var html_9d0ce4b6ee2a4de8e6ea7094eaa6a25b = $(`&lt;div id=&quot;html_9d0ce4b6ee2a4de8e6ea7094eaa6a25b&quot; style=&quot;width: 100.0%; height: 100.0%;&quot;&gt;Berlin&lt;/div&gt;`)[0];\n",
       "                popup_58cd199f270852ea9d2f032435029154.setContent(html_9d0ce4b6ee2a4de8e6ea7094eaa6a25b);\n",
       "            \n",
       "        \n",
       "\n",
       "        marker_90b90641dac5397d4036680ec53808ba.bindPopup(popup_58cd199f270852ea9d2f032435029154)\n",
       "        ;\n",
       "\n",
       "        \n",
       "    \n",
       "    \n",
       "            var marker_06c2022b538ba850cc49f295eaf74008 = L.marker(\n",
       "                [40.7094328, -74.001457],\n",
       "                {}\n",
       "            ).addTo(map_4093cc18d26abddd5b870bdc47c756d4);\n",
       "        \n",
       "    \n",
       "        var popup_e04b1e671727b429fff0e65acb1d9093 = L.popup({&quot;maxWidth&quot;: &quot;100%&quot;});\n",
       "\n",
       "        \n",
       "            \n",
       "                var html_b5b3de638605c305d3f8d43438072ae9 = $(`&lt;div id=&quot;html_b5b3de638605c305d3f8d43438072ae9&quot; style=&quot;width: 100.0%; height: 100.0%;&quot;&gt;New York&lt;/div&gt;`)[0];\n",
       "                popup_e04b1e671727b429fff0e65acb1d9093.setContent(html_b5b3de638605c305d3f8d43438072ae9);\n",
       "            \n",
       "        \n",
       "\n",
       "        marker_06c2022b538ba850cc49f295eaf74008.bindPopup(popup_e04b1e671727b429fff0e65acb1d9093)\n",
       "        ;\n",
       "\n",
       "        \n",
       "    \n",
       "&lt;/script&gt;\n",
       "&lt;/html&gt;\" style=\"position:absolute;width:100%;height:100%;left:0;top:0;border:none !important;\" allowfullscreen webkitallowfullscreen mozallowfullscreen></iframe></div></div>"
      ],
      "text/plain": [
       "<folium.folium.Map at 0x19db22fb0>"
      ]
     },
     "execution_count": 18,
     "metadata": {},
     "output_type": "execute_result"
    }
   ],
   "source": [
    "import folium\n",
    "from folium.vector_layers import PolyLine\n",
    "\n",
    "m = folium.Map(location=[50, -30], zoom_start=3)\n",
    "\n",
    "geodeticLine = PolyLine(locations=latlons, color='blue', weight=4)\n",
    "geodeticLine.add_to(m)\n",
    "\n",
    "folium.Marker(latlons[0], popup=\"Berlin\").add_to(m)\n",
    "folium.Marker(latlons[-1], popup=\"New York\").add_to(m)\n",
    "\n",
    "m"
   ]
  },
  {
   "cell_type": "markdown",
   "metadata": {},
   "source": [
    "# Part 6b: Create Interactive Maps with ipyleaflet\n",
    "\n",
    "https://ipyleaflet.readthedocs.io/en/latest/\n",
    "\n",
    "    "
   ]
  },
  {
   "cell_type": "code",
   "execution_count": null,
   "metadata": {},
   "outputs": [],
   "source": []
  }
 ],
 "metadata": {
  "kernelspec": {
   "display_name": "Python 3 (ipykernel)",
   "language": "python",
   "name": "python3"
  },
  "language_info": {
   "codemirror_mode": {
    "name": "ipython",
    "version": 3
   },
   "file_extension": ".py",
   "mimetype": "text/x-python",
   "name": "python",
   "nbconvert_exporter": "python",
   "pygments_lexer": "ipython3",
   "version": "3.10.10"
  }
 },
 "nbformat": 4,
 "nbformat_minor": 4
}
