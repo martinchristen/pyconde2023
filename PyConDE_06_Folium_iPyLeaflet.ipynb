{
 "cells": [
  {
   "cell_type": "markdown",
   "metadata": {},
   "source": [
    "# Part 6a: Creating Interactive Maps with Folium\n",
    "\n",
    "Folium is a Python library that allows you to create interactive maps using the Leaflet JavaScript library. It provides an easy-to-use interface for rendering maps, adding markers, and creating interactive visualizations.\n",
    "\n",
    "https://python-visualization.github.io/folium/\n"
   ]
  },
  {
   "cell_type": "code",
   "execution_count": null,
   "metadata": {},
   "outputs": [],
   "source": [
    "import folium"
   ]
  },
  {
   "cell_type": "code",
   "execution_count": null,
   "metadata": {},
   "outputs": [],
   "source": [
    "m = folium.Map(location=[52.52074,13.416415], zoom_start=12)\n",
    "m"
   ]
  },
  {
   "cell_type": "markdown",
   "metadata": {},
   "source": [
    "Folium provides a variety of built-in tilesets (base maps) that you can use for your map visualization. These tilesets come from different sources and have different visual styles. Some of the popular built-in tilesets include:\n",
    "\n",
    "* **OpenStreetMap** (default): Open-source maps created by contributors around the world.\n",
    "* **Stamen Terrain**: A terrain map with hill shading and natural vegetation colors from Stamen Design.\n",
    "* **Stamen Toner**: A high-contrast, black-and-white map from Stamen Design.\n",
    "* **Stamen Watercolor**: A watercolor-style map from Stamen Design.\n",
    "* **CartoDB Positron**: A light and clean base map from CartoDB.\n",
    "* **CartoDB Dark_Matter**: A dark and high-contrast base map from CartoDB.\n"
   ]
  },
  {
   "cell_type": "code",
   "execution_count": null,
   "metadata": {},
   "outputs": [],
   "source": [
    "m = folium.Map(location=[52.52074,13.416415],\n",
    "           tiles='Stamen Watercolor', \n",
    "           zoom_start=8)\n",
    "m"
   ]
  },
  {
   "cell_type": "markdown",
   "metadata": {
    "tags": []
   },
   "source": [
    "### Custom Layers\n",
    "\n",
    "There are other tile services available, some require API keys.\n",
    "\n",
    "Keep in mind that using custom tilesets may have additional usage limitations or terms of service. Always review the provider's documentation and ensure you comply with their usage policies."
   ]
  },
  {
   "cell_type": "code",
   "execution_count": null,
   "metadata": {
    "tags": []
   },
   "outputs": [],
   "source": [
    "tile_url = \"https://server.arcgisonline.com/ArcGIS/rest/services/World_Street_Map/MapServer/tile/{z}/{y}/{x}\"\n",
    "\n",
    "m = folium.Map(location=[52.52074,13.416415], zoom_start=8, tiles=tile_url, attr=\"Esri\")\n",
    "m"
   ]
  },
  {
   "cell_type": "code",
   "execution_count": null,
   "metadata": {},
   "outputs": [],
   "source": [
    "tile_url=\"https://server.arcgisonline.com/ArcGIS/rest/services/World_Imagery/MapServer/tile/{z}/{y}/{x}\"\n",
    "\n",
    "m = folium.Map(location=[52.52074,13.416415], zoom_start=8, tiles=tile_url, attr=\"Esri\")\n",
    "m"
   ]
  },
  {
   "cell_type": "code",
   "execution_count": null,
   "metadata": {},
   "outputs": [],
   "source": [
    "tile_url=\"https://wmts.geo.admin.ch/1.0.0/ch.swisstopo.pixelkarte-farbe/default/current/3857/{z}/{x}/{y}.jpeg\"\n",
    "\n",
    "m = folium.Map(location=[52.52074,13.416415], zoom_start=8, tiles=tile_url, attr=\"Swisstopo\")\n",
    "m"
   ]
  },
  {
   "cell_type": "code",
   "execution_count": null,
   "metadata": {},
   "outputs": [],
   "source": [
    "tile_url=\"https://wmts.geo.admin.ch/1.0.0/ch.swisstopo.swissimage/default/current/3857/{z}/{x}/{y}.jpeg\"\n",
    "\n",
    "m = folium.Map(location=[52.52074,13.416415], zoom_start=8, tiles=tile_url, attr=\"Swisstopo\")\n",
    "m"
   ]
  },
  {
   "cell_type": "markdown",
   "metadata": {},
   "source": [
    "You can create a map with multiple layers and provide the option to switch between them using the LayerControl feature in Folium."
   ]
  },
  {
   "cell_type": "code",
   "execution_count": null,
   "metadata": {},
   "outputs": [],
   "source": [
    "# Create an empty map with no tiles\n",
    "map_with_layers = folium.Map(location=[52.52074,13.416415], zoom_start=8, control_scale=True)\n",
    "\n",
    "# Add OpenStreetMap layer\n",
    "openstreetmap_layer = folium.TileLayer('OpenStreetMap')\n",
    "openstreetmap_layer.add_to(map_with_layers)\n",
    "\n",
    "# Add Stamen Terrain layer\n",
    "stamen_terrain_layer = folium.TileLayer('Stamen Terrain')\n",
    "stamen_terrain_layer.add_to(map_with_layers)\n",
    "\n",
    "# Add Esri World StreetMap\n",
    "tile_url = \"https://server.arcgisonline.com/ArcGIS/rest/services/World_Street_Map/MapServer/tile/{z}/{y}/{x}\"\n",
    "esri_layer = folium.TileLayer(name=\"Esri World_Street_Map\", tiles=tile_url, attr=\"Esri\")\n",
    "esri_layer.add_to(map_with_layers)\n",
    "\n",
    "# Add Swisstopo Pixelkarte\n",
    "tile_url=\"https://wmts.geo.admin.ch/1.0.0/ch.swisstopo.pixelkarte-farbe/default/current/3857/{z}/{x}/{y}.jpeg\"\n",
    "st_layer = folium.TileLayer(name=\"Swisstopo PK\", tiles=tile_url, attr=\"swisstopo\")\n",
    "st_layer.add_to(map_with_layers)\n",
    "\n",
    "# Add LayerControl to switch between layers\n",
    "folium.LayerControl().add_to(map_with_layers)\n",
    "\n",
    "# Display the map\n",
    "map_with_layers"
   ]
  },
  {
   "cell_type": "markdown",
   "metadata": {},
   "source": [
    "### Adding Markers"
   ]
  },
  {
   "cell_type": "code",
   "execution_count": null,
   "metadata": {},
   "outputs": [],
   "source": [
    "m = folium.Map(location=[47.37825,8.5367835], zoom_start=16)\n",
    "\n",
    "folium.Marker([47.37695,8.5387885], popup=\"Hotel <b>Schweizerhof</b><br/><br/>This hotel is located in the center\").add_to(m)\n",
    "folium.Marker([47.376386,8.5386506], popup=\"Hotel St. Gotthard\").add_to(m)\n",
    "m"
   ]
  },
  {
   "cell_type": "markdown",
   "metadata": {},
   "source": [
    "### Using Markers with FontAwesome (\"fa\")\n",
    "\n",
    "https://fontawesome.com/icons?d=gallery&m=free"
   ]
  },
  {
   "cell_type": "code",
   "execution_count": null,
   "metadata": {},
   "outputs": [],
   "source": [
    "m = folium.Map(location=[47.37825,8.5367835], zoom_start=16)\n",
    "\n",
    "folium.Marker([47.37695,8.5387885], \n",
    "              popup=\"Hotel Schweizerhof\",\n",
    "              icon=folium.Icon(color=\"red\", prefix=\"fa\", icon=\"hotel\")).add_to(m)\n",
    "\n",
    "folium.Marker([47.376386,8.5386506], \n",
    "              popup=\"Hotel St. Gotthard\",\n",
    "              icon=folium.Icon(color=\"green\", prefix=\"fa\", icon=\"hotel\")).add_to(m)\n",
    "\n",
    "folium.Marker([47.376192, 8.540005], \n",
    "              popup=\"Hotel Townhouse\", \n",
    "              icon=folium.Icon(color=\"blue\", prefix=\"fa\", icon=\"beer\")).add_to(m)\n",
    "\n",
    "m"
   ]
  },
  {
   "cell_type": "markdown",
   "metadata": {},
   "source": [
    "### Saving Maps as HTML\n",
    "\n",
    "Example: Mountain Tops"
   ]
  },
  {
   "cell_type": "code",
   "execution_count": null,
   "metadata": {},
   "outputs": [],
   "source": [
    "m = folium.Map(location=[45.922513343092916, 7.835574679184418], zoom_start=9)\n",
    "\n",
    "folium.Marker([45.922513343092916, 7.835574679184418], popup='Liskamm: 4527m').add_to(m)\n",
    "folium.Marker([45.941997570720375, 7.869820276613906], popup='Nordend: 4609m').add_to(m)\n",
    "folium.Marker([46.10902325837147, 7.863895545667632], popup='Nadelhorn: 4327m').add_to(m)\n",
    "folium.Marker([45.932186337151684, 7.8714190183674555], popup='Zumsteinspitze: 4563m').add_to(m)\n",
    "folium.Marker([46.08336532442726, 7.857296913890337], popup='Täschhorn: 4491m').add_to(m)\n",
    "folium.Marker([45.91669904679932, 7.863563975062021], popup='Ludwigshöhe: 4341m').add_to(m)\n",
    "folium.Marker([45.93756139078208, 7.299279971077615], popup='Grand Combin de Grafeneire: 4314m').add_to(m)\n",
    "folium.Marker([45.922513343092916, 7.835574679184418], popup='Lyskamm: 4527m').add_to(m)\n",
    "folium.Marker([45.93683662540408, 7.866814344981748], popup='Dufourspitze (Pointe Dufour): 4634m').add_to(m)\n",
    "folium.Marker([46.10129664518156, 7.716156885858494], popup='Weisshorn: 4506m').add_to(m)\n",
    "folium.Marker([45.976340506120614, 7.658691510512221], popup='Monte Cervino: 4478m').add_to(m)\n",
    "folium.Marker([45.976340506120614, 7.658691510512221], popup='Matterhorn: 4478m').add_to(m)\n",
    "folium.Marker([45.93674004101607, 7.86855410887458], popup='Grenzgipfel: 4618m').add_to(m)\n",
    "folium.Marker([45.92712756883081, 7.876921984235257], popup='Signalkuppe (Punta Gnifetti): 4554m').add_to(m)\n",
    "folium.Marker([46.093839189553464, 7.858928716434883], popup='Dom: 4545m').add_to(m)\n",
    "folium.Marker([46.107109586833495, 7.711724522200983], popup='Grand Gendarme: 4331m').add_to(m)\n",
    "folium.Marker([45.919638502715564, 7.8711910872756405], popup='Parrotspitze: 4432m').add_to(m)\n",
    "folium.Marker([46.093839189553464, 7.858928716434883], popup='Mischabel: 4545m').add_to(m)\n",
    "folium.Marker([46.03426257063022, 7.61204033560156], popup='Dent Blanche: 4357m').add_to(m)\n",
    "\n",
    "m.save(\"geodata/mountain_tops.html\")\n",
    "m"
   ]
  },
  {
   "cell_type": "markdown",
   "metadata": {},
   "source": [
    "### Draw a Polygon\n",
    "\n",
    "Folium supports a variety of vector and marker objects that can be used to create custom map visualizations. Let's start with a polygon."
   ]
  },
  {
   "cell_type": "code",
   "execution_count": null,
   "metadata": {},
   "outputs": [],
   "source": [
    "from folium.vector_layers import Polygon\n",
    "\n",
    "\n",
    "map_with_polygon = folium.Map(location=[46.8, 8.2], zoom_start=8)\n",
    "\n",
    "\n",
    "polygon_coordinates = [\n",
    "    [46.804207, 7.146025],\n",
    "    [46.839889, 7.742111],\n",
    "    [47.206267, 8.160829],\n",
    "    [47.379335, 7.868284],\n",
    "    [47.606719, 8.471438],\n",
    "    [47.559988, 9.018615],\n",
    "    [46.971252, 9.472410],\n",
    "    [46.492540, 9.137662],\n",
    "    [46.233174, 7.377228],\n",
    "    [46.609208, 6.889632]\n",
    "]\n",
    "\n",
    "polygon = Polygon(locations=polygon_coordinates, color='blue', fill=True, fill_color='blue', fill_opacity=0.3)\n",
    "\n",
    "\n",
    "polygon.add_to(map_with_polygon)\n",
    "\n",
    "\n",
    "map_with_polygon"
   ]
  },
  {
   "cell_type": "markdown",
   "metadata": {},
   "source": [
    "### Add a Popup to the polygon\n",
    "\n",
    "You can add a popup with custom HTML content to an existing object which behaves like a marker."
   ]
  },
  {
   "cell_type": "code",
   "execution_count": null,
   "metadata": {},
   "outputs": [],
   "source": [
    "from folium.vector_layers import Polygon\n",
    "from folium import Popup\n",
    "\n",
    "\n",
    "m = folium.Map(location=[46.8, 8.2], zoom_start=8)\n",
    "\n",
    "polygon_coordinates = [\n",
    "    [46.804207, 7.146025],\n",
    "    [46.839889, 7.742111],\n",
    "    [47.206267, 8.160829],\n",
    "    [47.379335, 7.868284],\n",
    "    [47.606719, 8.471438],\n",
    "    [47.559988, 9.018615],\n",
    "    [46.971252, 9.472410],\n",
    "    [46.492540, 9.137662],\n",
    "    [46.233174, 7.377228],\n",
    "    [46.609208, 6.889632]\n",
    "]\n",
    "\n",
    "polygon = Polygon(locations=polygon_coordinates, color='blue', fill=True, fill_color='blue', fill_opacity=0.3)\n",
    "polygon.add_to(m)\n",
    "\n",
    "\n",
    "popup = Popup('This is a popup. It may contain HTML<br/><br/><center><img src=\"https://images.freeimages.com/images/previews/ac9/railway-hdr-1361893.jpg\" width=\"120px\"></img></center><br/>Hello World', max_width=150)\n",
    "#attach it to the polygon\n",
    "polygon.add_child(popup)\n",
    "\n",
    "\n",
    "m"
   ]
  },
  {
   "cell_type": "markdown",
   "metadata": {},
   "source": [
    "### Draw a Polygon, Circle, and Line"
   ]
  },
  {
   "cell_type": "code",
   "execution_count": null,
   "metadata": {},
   "outputs": [],
   "source": [
    "from folium.vector_layers import Polygon, PolyLine\n",
    "from folium import CircleMarker\n",
    "\n",
    "m = folium.Map(location=[46.8, 8.2], zoom_start=8)\n",
    "\n",
    "polygon_coordinates = [\n",
    "    [46.804207, 7.146025],\n",
    "    [46.839889, 7.742111],\n",
    "    [47.206267, 8.160829],\n",
    "    [47.379335, 7.868284],\n",
    "    [47.606719, 8.471438],\n",
    "    [47.559988, 9.018615],\n",
    "    [46.971252, 9.472410],\n",
    "    [46.492540, 9.137662],\n",
    "    [46.233174, 7.377228],\n",
    "    [46.609208, 6.889632]\n",
    "]\n",
    "\n",
    "# Add polygon\n",
    "polygon = Polygon(locations=polygon_coordinates, color='blue', fill=True, fill_color='blue', fill_opacity=0.3)\n",
    "\n",
    "# add red circle\n",
    "circle = CircleMarker(location=[46.9480, 7.4474], radius=100, color='red', fill=True, fill_color='red', fill_opacity=0.5)\n",
    "circle.add_to(m)\n",
    "\n",
    "# add a line\n",
    "line_coordinates = [\n",
    "    [47.5596, 7.5886],\n",
    "    [46.2044, 6.1432]\n",
    "]\n",
    "\n",
    "green_line = PolyLine(locations=line_coordinates, color='green', weight=5)\n",
    "green_line.add_to(m)\n",
    "\n",
    "polygon.add_to(m)\n",
    "\n",
    "\n",
    "m"
   ]
  },
  {
   "cell_type": "markdown",
   "metadata": {},
   "source": [
    "Geodesic Line ? Yes, now we can draw our geodesic line from before!"
   ]
  },
  {
   "cell_type": "code",
   "execution_count": null,
   "metadata": {},
   "outputs": [],
   "source": [
    "import pyproj\n",
    "\n",
    "g = pyproj.Geod(ellps='WGS84')\n",
    "\n",
    "# BCC\n",
    "startlong = 13.416415945285419\n",
    "startlat = 52.52074329495131\n",
    "\n",
    "# New York\n",
    "endlong = -74.001457\n",
    "endlat = 40.7094328\n",
    "\n",
    "lonlats = g.npts(startlong, startlat, endlong, endlat, 100)\n",
    "lonlats = [(startlong, startlat)] + lonlats +  [(endlong, endlat)]  ## add start and end point"
   ]
  },
  {
   "cell_type": "markdown",
   "metadata": {},
   "source": [
    "Switch Longitudes and Latitudes in List. \n",
    "I think using a list comprehension is the easiest way:"
   ]
  },
  {
   "cell_type": "code",
   "execution_count": null,
   "metadata": {},
   "outputs": [],
   "source": [
    "latlons = [ [v[1],v[0]] for v in lonlats]"
   ]
  },
  {
   "cell_type": "code",
   "execution_count": null,
   "metadata": {},
   "outputs": [],
   "source": [
    "import folium\n",
    "from folium.vector_layers import PolyLine\n",
    "\n",
    "m = folium.Map(location=[50, -30], zoom_start=3)\n",
    "\n",
    "geodeticLine = PolyLine(locations=latlons, color='blue', weight=4)\n",
    "geodeticLine.add_to(m)\n",
    "\n",
    "folium.Marker(latlons[0], popup=\"Berlin\").add_to(m)\n",
    "folium.Marker(latlons[-1], popup=\"New York\").add_to(m)\n",
    "\n",
    "m"
   ]
  },
  {
   "cell_type": "markdown",
   "metadata": {},
   "source": [
    "# Part 6b: Create Interactive Maps with ipyleaflet\n",
    "\n",
    "https://ipyleaflet.readthedocs.io/en/latest/\n",
    "\n",
    "    "
   ]
  },
  {
   "cell_type": "code",
   "execution_count": null,
   "metadata": {},
   "outputs": [],
   "source": [
    "from ipyleaflet import basemaps\n",
    "\n",
    "print(list(basemaps.keys()))"
   ]
  },
  {
   "cell_type": "code",
   "execution_count": null,
   "metadata": {},
   "outputs": [],
   "source": [
    "basemaps.Esri"
   ]
  },
  {
   "cell_type": "code",
   "execution_count": null,
   "metadata": {},
   "outputs": [],
   "source": [
    "from ipyleaflet import Map, basemaps\n",
    "\n",
    "m = Map(center=[52.5218, 13.4131], zoom=13, basemap=basemaps.Esri.WorldImagery)\n",
    "m"
   ]
  },
  {
   "cell_type": "code",
   "execution_count": null,
   "metadata": {},
   "outputs": [],
   "source": []
  }
 ],
 "metadata": {
  "kernelspec": {
   "display_name": "Python 3 (ipykernel)",
   "language": "python",
   "name": "python3"
  },
  "language_info": {
   "codemirror_mode": {
    "name": "ipython",
    "version": 3
   },
   "file_extension": ".py",
   "mimetype": "text/x-python",
   "name": "python",
   "nbconvert_exporter": "python",
   "pygments_lexer": "ipython3",
   "version": "3.10.10"
  }
 },
 "nbformat": 4,
 "nbformat_minor": 4
}
