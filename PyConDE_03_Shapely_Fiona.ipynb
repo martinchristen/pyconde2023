{
 "cells": [
  {
   "cell_type": "markdown",
   "metadata": {},
   "source": [
    "## Part 3: Reading Vector Data with Fiona\n",
    "\n",
    "https://fiona.readthedocs.io/en/stable/manual.html\n",
    "\n",
    "https://github.com/Toblerity/Fiona\n",
    "\n",
    "**Execute the next 2 lines of code (download) while I'm explaining**\n",
    "\n",
    "Fiona streams simple feature data to and from GIS formats like GeoPackage and Shapefile.\n",
    "\n",
    "Fiona can read and write real-world data using multi-layered GIS formats, zipped and in-memory virtual file systems, from files on your hard drive or in cloud storage. This project includes Python modules and a command line interface (CLI).\n",
    "\n",
    "Fiona depends on GDAL but is different from GDAL's own bindings. Fiona is designed to be highly productive and to make it easy to write code which is easy to read."
   ]
  },
  {
   "cell_type": "markdown",
   "metadata": {
    "tags": []
   },
   "source": [
    "## Vectors ? Types of Geospatial Data\n",
    "\n",
    "The Open Geospatial Consortium (OGC) Simple Feature Access Standard defines a common set of geometries for representing two-dimensional geospatial features in vector data. These geometries are widely used in GIS software and data formats to describe the spatial characteristics of features like points, lines, and polygons. The standard specifies the following geometry types:\n",
    "    \n",
    "![Geometry Types](artwork/geomtype.png)\n",
    "\n",
    "    \n",
    "### Point\n",
    "\n",
    "A single location in space, defined by a pair of coordinates (x, y). Points can represent features like trees, streetlights, or the centroids of more complex shapes.\n",
    "\n",
    "### LineString\n",
    "\n",
    "A sequence of connected points, forming a line. LineStrings are used to represent linear features like roads, rivers, and paths. LineStrings can be open or closed; a closed LineString forms a linear ring.\n",
    "\n",
    "### Polygon\n",
    "\n",
    "A closed, two-dimensional shape defined by one or more linear rings. The first ring represents the outer boundary of the polygon, while additional rings, if present, represent holes or interior boundaries. Polygons are used to represent areas like buildings, lakes, or administrative boundaries.\n",
    "\n",
    "### MultiPoint\n",
    "\n",
    "A collection of one or more Point geometries, which can be used to represent a group of discrete features that share the same attributes.\n",
    "\n",
    "### MultiLineString\n",
    "\n",
    "A collection of one or more LineString geometries, which can represent a group of linear features that share the same attributes. Examples include a network of roads or a group of disconnected rivers.\n",
    "\n",
    "### MultiPolygon\n",
    "\n",
    "A collection of one or more Polygon geometries, which can represent a group of area features that share the same attributes. Examples include a group of islands or a set of non-contiguous administrative regions.\n",
    "\n",
    "### GeometryCollection\n",
    "\n",
    "A collection of any combination of the geometry types listed above. This allows for more complex representations of features that have multiple, distinct geometries with different types.\n",
    "\n",
    "\n",
    "Those types are covered in the **shapely** Module.\n"
   ]
  },
  {
   "cell_type": "markdown",
   "metadata": {},
   "source": [
    "## Popular Vector File Formats\n",
    "\n",
    "Vector formats are used to represent geospatial data as points, lines, and polygons, which are composed of coordinates defining their shapes and positions. Vector data is distinct from raster data, which represents geospatial information as a grid of pixels or cells, each having a specific value. Vector formats are particularly suited for representing discrete features like roads, buildings, rivers, or administrative boundaries.\n",
    "\n",
    "Here is an **incomplete** list of some popular vector data formats:\n",
    "\n",
    "### Shapefile (.shp)\n",
    "\n",
    "Shapefile (.shp): Developed by Esri, this is a widely used and supported format for storing vector data. It consists of multiple files, including geometry, attribute data, and projection information.\n",
    "\n",
    "Do not use Shapefiles. http://switchfromshapefile.org/\n",
    "\n",
    "### GeoJSON (.geojson)\n",
    "\n",
    "A lightweight, text-based format that uses the JSON (JavaScript Object Notation) standard to represent geographic features and their properties. It is especially popular for web-based mapping and geospatial applications.\n",
    "\n",
    "### KML (.kml) and KMZ (.kmz)\n",
    "\n",
    "Keyhole Markup Language (KML) is an XML-based format originally developed for Google Earth. It is used to display geographic data in Earth browsers and other compatible applications. KMZ is a compressed version of KML.\n",
    "\n",
    "### MicroStation DGN (.dgn)\n",
    "\n",
    "A CAD-based vector format developed by Bentley Systems for their MicroStation software.\n",
    "\n",
    "### Esri File Geodatabase (.gdb) \n",
    "\n",
    "A proprietary data format developed by Esri for storing and managing geospatial data, including vector features, raster data, and attribute tables. File geodatabases offer efficient storage, spatial indexing, and compression options, making them suitable for large datasets and complex applications.\n",
    "\n",
    "### OGC Geopackage (.gpkg)\n",
    "\n",
    "The GeoPackage format is an open, standards-based, platform-independent, and portable data format for geospatial information. Developed by the Open Geospatial Consortium (OGC), it is designed to facilitate the storage, sharing, and management of geospatial data, including vector features, tile matrix sets of imagery and raster maps at various scales, and even simple nontopological attributes.\n",
    "\n",
    "GeoPackage files use the SQLite database format, with the file extension \".gpkg\". SQLite is a widely used, lightweight, and self-contained database engine, which makes GeoPackage files easily portable and accessible across different devices, platforms, and programming languages.\n",
    "\n",
    "( More info: https://www.geopackage.org/ )\n",
    "\n",
    "\n",
    "### SpatiaLite (.sqlite)\n",
    "\n",
    "An extension to the SQLite database format that adds support for geospatial data types and operations. SpatiaLite is similar to the GeoPackage format but follows a different specification.\n",
    "\n",
    "\n",
    "\n"
   ]
  },
  {
   "cell_type": "markdown",
   "metadata": {},
   "source": [
    "## Download Sample Vector Data\n",
    "\n",
    "Let's download some data we need later. We download data in the **GeoPackage** format.\n",
    "\n",
    "**Natural Earth** is a public domain map dataset available at 1:10m, 1:50m, and 1:110 million scales. Featuring tightly integrated vector and raster data, with Natural Earth you can make a variety of visually pleasing, well-crafted maps with cartography or GIS software. More info: https://www.naturalearthdata.com/\n",
    "\n",
    "We download vector data now"
   ]
  },
  {
   "cell_type": "code",
   "execution_count": null,
   "metadata": {},
   "outputs": [],
   "source": [
    "from download import download, unzip"
   ]
  },
  {
   "cell_type": "code",
   "execution_count": null,
   "metadata": {},
   "outputs": [],
   "source": [
    "url = \"http://naciscdn.org/naturalearth/packages/natural_earth_vector.gpkg.zip\"\n",
    "#url = \"https://www.geopython.xyz/geodata/naturalearth/natural_earth_vector.gpkg.zip\" # backup-url\n",
    "\n",
    "download(url, \"geodata/ne.gpkg.zip\")\n",
    "unzip(\"geodata/ne.gpkg.zip\", \"geodata\")"
   ]
  },
  {
   "cell_type": "markdown",
   "metadata": {},
   "source": [
    "## Reading Vector File"
   ]
  },
  {
   "cell_type": "code",
   "execution_count": null,
   "metadata": {},
   "outputs": [],
   "source": [
    "import fiona"
   ]
  },
  {
   "cell_type": "markdown",
   "metadata": {},
   "source": [
    "List supported vector file formats:"
   ]
  },
  {
   "cell_type": "code",
   "execution_count": null,
   "metadata": {},
   "outputs": [],
   "source": [
    "fiona.supported_drivers"
   ]
  },
  {
   "cell_type": "code",
   "execution_count": null,
   "metadata": {},
   "outputs": [],
   "source": [
    "if 'GPKG' in fiona.supported_drivers:\n",
    "    print(\"Yay!! GeoPackageis supported...\")"
   ]
  },
  {
   "cell_type": "markdown",
   "metadata": {},
   "source": [
    "### Layers in GeoPackage \n",
    "\n",
    "In a GeoPackage, layers, also known as tables, are used to organize and store different types of geospatial data within the same SQLite database file. Each layer is a container for a specific type of geospatial data and its associated attributes. \n",
    "\n",
    "\n",
    "Let's list all available layers of our Geopackage file:"
   ]
  },
  {
   "cell_type": "code",
   "execution_count": null,
   "metadata": {},
   "outputs": [],
   "source": [
    "filename = \"geodata/packages/natural_earth_vector.gpkg\"  # this is the extracted GeoPackage file"
   ]
  },
  {
   "cell_type": "code",
   "execution_count": null,
   "metadata": {},
   "outputs": [],
   "source": [
    "layers = fiona.listlayers(filename)\n",
    "layers"
   ]
  },
  {
   "cell_type": "markdown",
   "metadata": {},
   "source": [
    "### Reading a Layer\n",
    "\n",
    "Let's use the `ne_10m_airports` layer. It cointains some airports around the workd. \n",
    "\n",
    "10m stands for the resolution 1:10_000_000 resolution. Some data is also available in 50m and 110m. (1:50_000_000 and 1:110_000_000)\n",
    "\n",
    "Note that many other vector file formats don't have the concept of layers (Shapefile, GeoJSON, ...). In that case you can't list layers and you would just omit the layer parameter when opening the file."
   ]
  },
  {
   "cell_type": "markdown",
   "metadata": {},
   "source": [
    "Open the dataset:"
   ]
  },
  {
   "cell_type": "code",
   "execution_count": null,
   "metadata": {},
   "outputs": [],
   "source": [
    "c = fiona.open(filename, 'r', layer='ne_10m_airports')"
   ]
  },
  {
   "cell_type": "markdown",
   "metadata": {},
   "source": [
    "#### Get the schema"
   ]
  },
  {
   "cell_type": "code",
   "execution_count": null,
   "metadata": {},
   "outputs": [],
   "source": [
    "c.schema"
   ]
  },
  {
   "cell_type": "markdown",
   "metadata": {},
   "source": [
    "#### Attributes / Properties"
   ]
  },
  {
   "cell_type": "code",
   "execution_count": null,
   "metadata": {},
   "outputs": [],
   "source": [
    "c.schema[\"properties\"]"
   ]
  },
  {
   "cell_type": "markdown",
   "metadata": {},
   "source": [
    "#### Get the Geospatial Data Type"
   ]
  },
  {
   "cell_type": "code",
   "execution_count": null,
   "metadata": {},
   "outputs": [],
   "source": [
    "c.schema[\"geometry\"]"
   ]
  },
  {
   "cell_type": "markdown",
   "metadata": {},
   "source": [
    "#### Get the first entry:"
   ]
  },
  {
   "cell_type": "code",
   "execution_count": null,
   "metadata": {},
   "outputs": [],
   "source": [
    "airport = next(iter(c))"
   ]
  },
  {
   "cell_type": "code",
   "execution_count": null,
   "metadata": {},
   "outputs": [],
   "source": [
    "airport['properties']['name']"
   ]
  },
  {
   "cell_type": "code",
   "execution_count": null,
   "metadata": {},
   "outputs": [],
   "source": [
    "airport['geometry']['type']"
   ]
  },
  {
   "cell_type": "code",
   "execution_count": null,
   "metadata": {},
   "outputs": [],
   "source": [
    "airport['geometry']['coordinates']"
   ]
  },
  {
   "cell_type": "code",
   "execution_count": null,
   "metadata": {},
   "outputs": [],
   "source": [
    "airport[\"properties\"][\"name_hi\"]"
   ]
  },
  {
   "cell_type": "code",
   "execution_count": null,
   "metadata": {},
   "outputs": [],
   "source": [
    "c.crs"
   ]
  },
  {
   "cell_type": "code",
   "execution_count": null,
   "metadata": {},
   "outputs": [],
   "source": [
    "c.close()"
   ]
  },
  {
   "cell_type": "markdown",
   "metadata": {},
   "source": [
    "#### Retrieving all data\n",
    "\n",
    "There are basically two ways:\n",
    "\n",
    "* convert to a list: Load everything into memory: (if dataset isn't too large...)\n",
    "\n",
    "      alldata = list(c)\n",
    "    \n",
    "* iterate through all data: (one by one):\n",
    "\n",
    "      for element in c:\n",
    "           ..."
   ]
  },
  {
   "cell_type": "code",
   "execution_count": null,
   "metadata": {},
   "outputs": [],
   "source": [
    "cnt = 0\n",
    "with fiona.open(filename, 'r', layer='ne_10m_airports') as c:\n",
    "    for airport in c:\n",
    "        if cnt < 15:\n",
    "             print(dict(airport['properties'])['name'])\n",
    "        cnt +=1"
   ]
  },
  {
   "cell_type": "code",
   "execution_count": null,
   "metadata": {},
   "outputs": [],
   "source": [
    "with fiona.open(filename, 'r', layer='ne_10m_airports') as c:\n",
    "    for airport in c:\n",
    "        if airport['properties']['iata_code'] == \"TXL\":\n",
    "            #print(airport['properties']['name'])\n",
    "            #print(airport['geometry']['coordinates'])\n",
    "            #print(airport['properties']['wikipedia'])\n",
    "            print(dict(airport['properties']))\n",
    "            print(dict(airport['geometry']))"
   ]
  },
  {
   "cell_type": "code",
   "execution_count": null,
   "metadata": {},
   "outputs": [],
   "source": [
    "with fiona.open(filename, 'r', layer='ne_10m_airports') as c:\n",
    "    print(c.crs)"
   ]
  },
  {
   "cell_type": "code",
   "execution_count": null,
   "metadata": {},
   "outputs": [],
   "source": [
    "import fiona\n",
    "\n",
    "c = fiona.open(filename, 'r', layer='ne_10m_admin_0_countries')\n",
    "\n",
    "c.schema"
   ]
  },
  {
   "cell_type": "code",
   "execution_count": null,
   "metadata": {},
   "outputs": [],
   "source": [
    "country = next(iter(c))\n",
    "\n",
    "print(country['properties']['NAME'])\n",
    "print(country['properties']['NAME_ZH'])\n",
    "print(country['properties']['CONTINENT'])\n",
    "print(country['properties']['POP_EST'])\n",
    "print(country['properties']['POP_YEAR'])"
   ]
  },
  {
   "cell_type": "code",
   "execution_count": null,
   "metadata": {},
   "outputs": [],
   "source": [
    "with fiona.open(filename, 'r', layer='ne_10m_admin_0_countries') as c:\n",
    "    for country in c:\n",
    "        if country['properties']['NAME'] == \"Germany\":\n",
    "            print(country['properties']['POP_EST'])\n",
    "            print(country['properties']['POP_YEAR'])   \n",
    "            print(country['geometry']['type'])\n",
    "            print(country['geometry']['coordinates'])               "
   ]
  },
  {
   "cell_type": "code",
   "execution_count": null,
   "metadata": {},
   "outputs": [],
   "source": [
    " print(dict(airport['properties']))"
   ]
  }
 ],
 "metadata": {
  "kernelspec": {
   "display_name": "Python 3 (ipykernel)",
   "language": "python",
   "name": "python3"
  },
  "language_info": {
   "codemirror_mode": {
    "name": "ipython",
    "version": 3
   },
   "file_extension": ".py",
   "mimetype": "text/x-python",
   "name": "python",
   "nbconvert_exporter": "python",
   "pygments_lexer": "ipython3",
   "version": "3.10.10"
  }
 },
 "nbformat": 4,
 "nbformat_minor": 4
}
