{
 "cells": [
  {
   "cell_type": "markdown",
   "metadata": {},
   "source": [
    "# Part 5: Coordinate Transformations & Creating Basic Maps\n",
    "\n",
    "\n",
    "\n",
    "## Coordinate Transformations using Pyproj\n",
    "\n",
    "\n",
    "<img src=\"https://pyproj4.github.io/pyproj/stable/_static/logo.png\" style=\"width: 200px;\"></img>\n",
    "\n",
    "Pyproj is a Python library that provides a set of tools and utilities for working with geospatial coordinate reference systems (CRS) and coordinate transformations. It is built on top of the PROJ library, which is a widely used open-source library for geospatial transformations.\n",
    "\n",
    "With Pyproj, you can perform various geospatial operations such as coordinate transformations: Pyproj can be used to transform coordinates between different CRS, including converting between geographic and projected CRS. This is useful for converting data between different coordinate systems, such as when working with data from different sources or when plotting data on a map.\n",
    "Pyproj can also be used to perform Geodetic calculations: Pyproj provides functions for performing geodetic calculations, such as calculating distances between points on the earth's surface, calculating azimuths and bearings, and performing geodetic intersections.\n",
    "\n",
    "\n",
    "https://pyproj4.github.io/pyproj/stable/api/proj.html\n",
    "\n",
    "\n",
    "### EPSG\n",
    "\n",
    "EPSG (European Petroleum Survey Group) codes are a standardized system for identifying coordinate reference systems (CRS) used in geospatial data. Each EPSG code represents a specific CRS, which defines how geographic coordinates (latitude and longitude) are projected onto a two-dimensional map or image.\n",
    "\n",
    "The EPSG system was developed by the European Petroleum Survey Group in the 1980s, but it is now maintained by the International Association of Oil & Gas Producers (IOGP). The EPSG registry contains thousands of codes for different CRSs, covering both commonly used and obscure projections.\n",
    "\n",
    "EPSG codes are widely used in many geospatial software applications, including GIS (Geographic Information Systems), remote sensing software, and web mapping services. They are useful for ensuring that data from different sources are correctly aligned, by specifying the correct CRS for each dataset.\n",
    "\n",
    "For example, the EPSG code **4326** represents the WGS 84 CRS, which is a common CRS used for GPS coordinates. The EPSG code **3857** represents the Web Mercator CRS, which is widely used in web mapping applications.\n",
    "\n",
    "\n",
    "Some common EPSG codes are:\n",
    "\n",
    "* EPSG:4326 - WGS 84 - This is a geographic coordinate system commonly used for GPS data and represents the world in latitude and longitude.\n",
    "* EPSG:3857 - Web Mercator - This is a projected coordinate system used by many web mapping applications, including Google Maps and OpenStreetMap.\n",
    "* EPSG:26918 - UTM Zone 18N - This is a projected coordinate system commonly used in North America for mapping at a regional scale.\n",
    "* EPSG:32618 - WGS 84 / UTM Zone 18N - This is a hybrid coordinate system that combines the geographic coordinate system of WGS 84 with the projected coordinate system of UTM Zone 18N.\n",
    "* EPSG:3035 - ETRS89 / LAEA Europe - This is a projected coordinate system used for mapping in Europe.\n",
    "* EPSG:3857 - Pseudo-Mercator - This is a variant of the Web Mercator coordinate system used by many mapping applications.\n",
    "* EPSG:27700 - OSGB 1936 / British National Grid - This is a projected coordinate system used for mapping in the United Kingdom.\n",
    "* EPSG:2154 - RGF93 / Lambert-93 - This is a projected coordinate system used for mapping in France.\n",
    "* EPSG:4269 - NAD83 - This is a geographic coordinate system commonly used in North America for mapping at a national scale.\n",
    "\n",
    "Also check out https://epsg.io\n"
   ]
  },
  {
   "cell_type": "code",
   "execution_count": null,
   "metadata": {},
   "outputs": [],
   "source": [
    "import pyproj\n",
    "from pyproj import Transformer\n",
    "\n",
    "wgs84= \"epsg:4326\"\n",
    "lv95= \"epsg:2056\""
   ]
  },
  {
   "cell_type": "code",
   "execution_count": null,
   "metadata": {},
   "outputs": [],
   "source": [
    "transformer1 = Transformer.from_crs(\"epsg:4326\", \"epsg:2056\")\n",
    "\n",
    "r0 = transformer1.transform(47.3771216, 8.5391632)\n",
    "r0"
   ]
  },
  {
   "cell_type": "code",
   "execution_count": null,
   "metadata": {},
   "outputs": [],
   "source": [
    "transformer2 = Transformer.from_crs(\"epsg:2056\", \"epsg:4326\")\n",
    "\n",
    "r1 = transformer2.transform(2683111.9823819078, 1247947.5735251226)\n",
    "r1"
   ]
  },
  {
   "cell_type": "markdown",
   "metadata": {},
   "source": [
    "## Geodesic Line\n",
    "\n",
    "A geodesic line is the shortest path between two points on a curved surface, such as the surface of the earth. It is also known as a \"great circle\" or \"geodesic arc.\"\n",
    "\n",
    "On a flat surface, such as a piece of paper, the shortest path between two points is a straight line. However, on a curved surface like the earth, a straight line between two points is not the shortest distance. Instead, the shortest distance is along a curved line that follows the surface of the earth. This is known as a geodesic line.\n",
    "\n",
    "For example, if you wanted to travel from New York City to London, a straight line on a map would not be the shortest path, as the earth's surface is curved. Instead, the shortest path would be along a geodesic line that follows the curvature of the earth's surface. This is why airplanes flying between New York City and London typically follow a curved path.\n",
    "\n",
    "Geodesic lines can be calculated using geodetic calculations, which take into account the shape of the earth and the curvature of its surface. They are important in many applications, including navigation, surveying, and geodesy.\n",
    "\n",
    "https://en.wikipedia.org/wiki/Geodesic\n",
    "\n",
    "\n",
    "Example: Berlin to New York"
   ]
  },
  {
   "cell_type": "code",
   "execution_count": null,
   "metadata": {},
   "outputs": [],
   "source": [
    "g = pyproj.Geod(ellps='WGS84')\n",
    "\n",
    "# BCC\n",
    "startlong = 13.4164159\n",
    "startlat =  52.5207433\n",
    "\n",
    "# New York\n",
    "endlong = -74.001457\n",
    "endlat = 40.7094328\n",
    "\n",
    "lonlats = g.npts(startlong, startlat, endlong, endlat, 30)\n",
    "\n",
    "lonlats = [(startlong, startlat)] + lonlats +  [(endlong, endlat)]  ## add start and end point\n",
    "\n",
    "print(len(lonlats))\n",
    "print(lonlats)\n",
    "\n"
   ]
  },
  {
   "cell_type": "code",
   "execution_count": null,
   "metadata": {},
   "outputs": [],
   "source": [
    "import geopandas as gpd\n",
    "import geoplot\n",
    "from shapely.geometry import Point\n",
    "\n",
    "geodesic = [Point(xy) for xy in zip(lonlats)]"
   ]
  },
  {
   "cell_type": "code",
   "execution_count": null,
   "metadata": {},
   "outputs": [],
   "source": [
    "gdfGeodesic = gpd.GeoDataFrame(geometry=geodesic, crs=\"EPSG:4326\")\n",
    "gdfGeodesic.plot();"
   ]
  },
  {
   "cell_type": "markdown",
   "metadata": {},
   "source": [
    "Combine it with a vector dataset of the planet"
   ]
  },
  {
   "cell_type": "code",
   "execution_count": null,
   "metadata": {},
   "outputs": [],
   "source": [
    "gdfCountries = gpd.read_file(\"geodata/packages/natural_earth_vector.gpkg\", \n",
    "                              layer=\"ne_110m_admin_0_countries\", \n",
    "                              encoding=\"utf-8\")"
   ]
  },
  {
   "cell_type": "code",
   "execution_count": null,
   "metadata": {},
   "outputs": [],
   "source": [
    "ax = gdfCountries.plot(figsize=(20,10), facecolor=\"#EEEEEE\", edgecolor=\"#000000\")\n",
    "gdfGeodesic.plot(ax=ax, color=\"#0000FF\", markersize=40);"
   ]
  },
  {
   "cell_type": "code",
   "execution_count": null,
   "metadata": {},
   "outputs": [],
   "source": [
    "# Delete Antarctica from the dataframe\n",
    "world = gdfCountries.drop(gdfCountries.index[gdfCountries['NAME'] == 'Antarctica'])"
   ]
  },
  {
   "cell_type": "code",
   "execution_count": null,
   "metadata": {},
   "outputs": [],
   "source": [
    "# Convert to Web-Mercator:\n",
    "world = world.to_crs(\"EPSG:3857\")\n",
    "world.plot()"
   ]
  },
  {
   "cell_type": "code",
   "execution_count": null,
   "metadata": {},
   "outputs": [],
   "source": [
    "ax = world.plot(figsize=(20,10), facecolor=\"#EEEEEE\", edgecolor=\"#000000\")\n",
    "gdfGeodesic.to_crs(\"EPSG:3857\").plot(ax=ax, color=\"#0000FF\", markersize=40);"
   ]
  },
  {
   "cell_type": "markdown",
   "metadata": {},
   "source": [
    "**Missing Antarctica ?**\n",
    "\n",
    "Well the problem is that the Mercator / WebMercator will go to infinity near the poles. "
   ]
  },
  {
   "cell_type": "code",
   "execution_count": null,
   "metadata": {},
   "outputs": [],
   "source": [
    "gdfCountries.to_crs(\"EPSG:3857\").plot()"
   ]
  },
  {
   "cell_type": "markdown",
   "metadata": {},
   "source": [
    "### Solution\n",
    "\n",
    "We can solve the problem in the same way Google Maps did it: clip the world!\n",
    "\n",
    "In Google maps the world is a perfect sphere. Lets figure out what the max/min latitude is when you want to have a square:\n",
    "\n",
    "\n",
    "Transform WGS84 to WebMercator:"
   ]
  },
  {
   "cell_type": "code",
   "execution_count": null,
   "metadata": {},
   "outputs": [],
   "source": [
    "transformer = Transformer.from_crs(\"epsg:4326\", \"epsg:3857\")\n",
    "\n",
    "r0 = transformer.transform(0,-180)\n",
    "r1 = transformer.transform(0,180)\n",
    "\n",
    "print(r0,r1)"
   ]
  },
  {
   "cell_type": "markdown",
   "metadata": {},
   "source": [
    "To make it a perfect square we take the same values for the y-axis and transform it back to geographic coordinates (WGS84)"
   ]
  },
  {
   "cell_type": "code",
   "execution_count": null,
   "metadata": {},
   "outputs": [],
   "source": [
    "transformer = Transformer.from_crs(\"epsg:3857\", \"epsg:4326\")\n",
    "\n",
    "r0 = transformer.transform(-20037508.342789244,-20037508.342789244)\n",
    "r1 = transformer.transform(20037508.342789244,20037508.342789244)\n",
    "\n",
    "print(r0,r1)"
   ]
  },
  {
   "cell_type": "markdown",
   "metadata": {},
   "source": [
    "Now clip it by creating a box in shapely"
   ]
  },
  {
   "cell_type": "code",
   "execution_count": null,
   "metadata": {},
   "outputs": [],
   "source": [
    "from shapely.geometry import box\n",
    "\n",
    "bbox = box(-180, r0[0], 180, r1[0])\n",
    "bbox"
   ]
  },
  {
   "cell_type": "code",
   "execution_count": null,
   "metadata": {},
   "outputs": [],
   "source": [
    "world2 = gpd.clip(gdfCountries, bbox)"
   ]
  },
  {
   "cell_type": "code",
   "execution_count": null,
   "metadata": {},
   "outputs": [],
   "source": [
    "world2.plot();"
   ]
  },
  {
   "cell_type": "code",
   "execution_count": null,
   "metadata": {},
   "outputs": [],
   "source": [
    "world2.to_crs(\"EPSG:3857\").plot();"
   ]
  },
  {
   "cell_type": "markdown",
   "metadata": {},
   "source": [
    "Recognize Google Maps (or OpenStreetMap, or ...) ?"
   ]
  },
  {
   "cell_type": "code",
   "execution_count": null,
   "metadata": {},
   "outputs": [],
   "source": []
  }
 ],
 "metadata": {
  "kernelspec": {
   "display_name": "Python 3 (ipykernel)",
   "language": "python",
   "name": "python3"
  },
  "language_info": {
   "codemirror_mode": {
    "name": "ipython",
    "version": 3
   },
   "file_extension": ".py",
   "mimetype": "text/x-python",
   "name": "python",
   "nbconvert_exporter": "python",
   "pygments_lexer": "ipython3",
   "version": "3.10.10"
  }
 },
 "nbformat": 4,
 "nbformat_minor": 4
}
