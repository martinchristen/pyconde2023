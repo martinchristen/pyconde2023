{
 "cells": [
  {
   "cell_type": "markdown",
   "metadata": {},
   "source": [
    "# Part 4: Using Geopandas to Read and Write Vector Data\n",
    "\n",
    "<img width=\"20%\" src=\"https://geopandas.readthedocs.io/en/latest/_static/geopandas_logo_web.svg\"></img>\n",
    "\n",
    "GeoPandas is a popular Python library designed to simplify working with geospatial data in Python by extending the capabilities of the pandas library. It provides data structures and functions needed to manipulate and analyze geospatial data, such as points, lines, and polygons, and to perform various spatial operations, like spatial joins, overlays, and projections.\n",
    "\n",
    "GeoPandas builds upon several core Python libraries, including pandas, Shapely, Fiona, and pyproj. These dependencies provide the underlying functionality for handling geospatial data structures, file I/O, and coordinate transformations.\n",
    "\n",
    "http://geopandas.readthedocs.io"
   ]
  },
  {
   "cell_type": "markdown",
   "metadata": {},
   "source": [
    "We can import geopandas now. Most developers import it as \"gpd\" to type less."
   ]
  },
  {
   "cell_type": "code",
   "execution_count": null,
   "metadata": {},
   "outputs": [],
   "source": [
    "import geopandas as gpd"
   ]
  },
  {
   "cell_type": "markdown",
   "metadata": {},
   "source": [
    "## Reading Natural Earth Dataset\n",
    "\n",
    "In a previous part we downloaded the natural earth vector dataset and looked at the airports and countries datasets. \n",
    "\n",
    "Let's do that again but this time using GeoPandas"
   ]
  },
  {
   "cell_type": "code",
   "execution_count": null,
   "metadata": {},
   "outputs": [],
   "source": [
    "filename = \"geodata/packages/natural_earth_vector.gpkg\"\n",
    "\n",
    "airports = gpd.read_file(filename, layer=\"ne_10m_airports\")"
   ]
  },
  {
   "cell_type": "markdown",
   "metadata": {},
   "source": [
    "the variable \"airports\" is a \"geopandas data frame\". We can just display it in jupyter lab:\n",
    "\n",
    "The last column is \"geometry\" and contains the geometry. Compared to fiona this is really easy!"
   ]
  },
  {
   "cell_type": "code",
   "execution_count": null,
   "metadata": {},
   "outputs": [],
   "source": [
    "airports"
   ]
  },
  {
   "cell_type": "markdown",
   "metadata": {},
   "source": [
    "There are 41 columns and 893 rows. The geodataframe has an attribute \"shape\", where we can also get this information:"
   ]
  },
  {
   "cell_type": "code",
   "execution_count": null,
   "metadata": {},
   "outputs": [],
   "source": [
    "airports.shape"
   ]
  },
  {
   "cell_type": "markdown",
   "metadata": {},
   "source": [
    "We can create a new dataframe with less rows by just telling which rows we want. We should always keep the **geometry** row."
   ]
  },
  {
   "cell_type": "code",
   "execution_count": null,
   "metadata": {},
   "outputs": [],
   "source": [
    "airports2 = airports[['scalerank', 'type', 'name','iata_code', 'geometry']] "
   ]
  },
  {
   "cell_type": "code",
   "execution_count": null,
   "metadata": {},
   "outputs": [],
   "source": [
    "airports2"
   ]
  },
  {
   "cell_type": "markdown",
   "metadata": {},
   "source": [
    "we can also call .head(n) to display the first n entries:"
   ]
  },
  {
   "cell_type": "code",
   "execution_count": null,
   "metadata": {},
   "outputs": [],
   "source": [
    "airports2.head(5)"
   ]
  },
  {
   "cell_type": "markdown",
   "metadata": {},
   "source": [
    "### Sorting\n",
    "\n",
    "Sorting is very easy. You must specify which column is sorted"
   ]
  },
  {
   "cell_type": "code",
   "execution_count": null,
   "metadata": {},
   "outputs": [],
   "source": [
    "airports2.sort_values(by=\"name\", ascending=True)"
   ]
  },
  {
   "cell_type": "markdown",
   "metadata": {},
   "source": [
    "### Queries\n",
    "\n",
    "We can do some queries:"
   ]
  },
  {
   "cell_type": "code",
   "execution_count": null,
   "metadata": {},
   "outputs": [],
   "source": [
    "airports2.query(\"scalerank == 2\")"
   ]
  },
  {
   "cell_type": "code",
   "execution_count": null,
   "metadata": {},
   "outputs": [],
   "source": [
    "airports2.query(\"iata_code == 'ZRH'  \")"
   ]
  }
 ],
 "metadata": {
  "kernelspec": {
   "display_name": "Python 3 (ipykernel)",
   "language": "python",
   "name": "python3"
  },
  "language_info": {
   "codemirror_mode": {
    "name": "ipython",
    "version": 3
   },
   "file_extension": ".py",
   "mimetype": "text/x-python",
   "name": "python",
   "nbconvert_exporter": "python",
   "pygments_lexer": "ipython3",
   "version": "3.10.10"
  }
 },
 "nbformat": 4,
 "nbformat_minor": 4
}
