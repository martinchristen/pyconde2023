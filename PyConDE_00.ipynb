{
 "cells": [
  {
   "cell_type": "markdown",
   "id": "45854e50-9571-4b5b-8b7f-ebc08e502e0d",
   "metadata": {},
   "source": [
    "# Geospatial Data Processing in Python: A Comprehensive Tutorial\n",
    "\n",
    "![](https://pretalx.com/media/pyconde-pydata-berlin-2023/img/download_9fA8a9e.png)\n",
    "\n",
    "\n",
    "## Tutorial PyCon.DE 2023\n",
    "\n",
    "In this tutorial, you will learn about the various Python modules for processing geospatial data, including GDAL, Rasterio, Pyproj, Shapely, Folium, Fiona, OSMnx, Libpysal, Geopandas, Pydeck, Whitebox, ESDA, and Leaflet. You will gain hands-on experience working with real-world geospatial data and learn how to perform tasks such as reading and writing spatial data, reprojecting data, performing spatial analyses, and creating interactive maps. This tutorial is suitable for beginners as well as intermediate Python users who want to expand their knowledge in the field of geospatial data processing"
   ]
  },
  {
   "cell_type": "markdown",
   "id": "5b54c73e-1bcf-41ca-a573-d016ff86042c",
   "metadata": {},
   "source": [
    "## Notebooks\n",
    "\n",
    "The notebooks for this Tutorial are available on GitHub and released under the MIT License\n",
    "\n",
    "https://github.com/martinchristen/pyconde2023\n"
   ]
  },
  {
   "cell_type": "markdown",
   "id": "d1842f25-2294-4796-8de9-62c6ac322efd",
   "metadata": {},
   "source": [
    "## Installation\n",
    "\n",
    "\n",
    "There are basically 3 supported variants (and 1 not recommended variant) how to install modules required for this course, if you are new to Python/Geo I recommend you go with Variant 1.\n",
    "\n",
    "All variants basically use conda and/or its ecosystem.\n",
    "\n",
    "![](https://camo.githubusercontent.com/fcbeed317b55a6e451772fe75f8894b2e5f5889eba9566b31f78a1215527916f/68747470733a2f2f73332e616d617a6f6e6177732e636f6d2f636f6e64612d6465762f636f6e64615f6c6f676f2e737667)\n",
    "\n",
    "\n",
    "Conda is an open source, cross-platform package management system and languageagnostic\n",
    "package management system. It is published by Continuum Analytics under the\n",
    "BSD license. Conda allows users to easily install various versions of binary software\n",
    "packages and any libraries suitable for their computer platform. It also allows users to\n",
    "switch between package versions and download and install software repository updates.\n",
    "Virtual Environments are a good way to handle different Python Versions and different\n",
    "module versions. It is also very easy to switch from one to another virtual environment.\n",
    "Virtual Environments can be created in the Terminal (Mac/Linux) or Anaconda Prompt\n",
    "(Windows).\n",
    "\n",
    "https://github.com/conda/conda\n",
    "\n",
    "<hr/>\n",
    "\n",
    "#### Variant 1: Install Anaconda\n",
    "\n",
    "**This is the recommended Setup if you want to get started with Python & Geo**\n",
    "\n",
    "Get the latest Version (Windows, MacOS or Linux) here:\n",
    "\n",
    "https://www.anaconda.com/products/distribution#Downloads\n",
    "\n",
    "Install the latest Version for your operating system and let's continue\n",
    "\n",
    "<hr/>\n",
    "\n",
    "#### Variant 2: Install Miniconda\n",
    "\n",
    "**This is the recommended Setup for a little bit more advanced users**\n",
    "\n",
    "Follow installation steps here: https://docs.conda.io/en/latest/miniconda.html (download installer for your OS)\n",
    "\n",
    "<hr/>\n",
    "\n",
    "#### Variant 3: Install Mamba\n",
    "\n",
    "**This is the recommended Setup for advanced users / experts who do many deployments / updates**\n",
    "\n",
    "Follow instructions here:\n",
    "\n",
    "https://mamba.readthedocs.io/en/latest/installation.html\n",
    "\n",
    "You can also install mamba in an existing Anaconda/Miniconda installation: \n",
    "\n",
    "    conda install mamba -n base -c conda-forge\n",
    "    \n",
    "After installatio use the \"mamba\" instead of \"conda\" command.\n",
    "\n",
    "<hr/>\n",
    "\n",
    "#### Variant 4: Using pip\n",
    "\n",
    "**I don't recommend this.**\n",
    "\n",
    "If you still want to do it, there are inofficial binaries for **Windows** available, maintained by Christoph Gohlke:\n",
    "\n",
    "* https://www.cgohlke.com/\n",
    "* https://github.com/cgohlke/geospatial.whl/releases\n"
   ]
  },
  {
   "cell_type": "markdown",
   "id": "8cdd8731-986b-4005-bb11-79b2f884e498",
   "metadata": {},
   "source": [
    "## Creating our Geospatial Virtual Environment\n",
    "\n",
    "\n",
    "Let's create our environment where we will install all the modules we need in this course.\n",
    "\n",
    "    \n",
    "    conda create --name geopython310 python=3.10 jupyterlab –c conda-forge -y    \n",
    "    \n",
    "    conda activate geopython310          \n",
    "\n",
    "    conda install gdal rasterio matplotlib geopandas geoplot folium osmnx -c conda-forge -y  \n",
    "    \n",
    "\n",
    "Do this everytime from now on:\n",
    "\n",
    "    (You can ommit the notebook-dir or set to another path.)\n",
    "\n",
    "    conda activate geopython310\n",
    "    jupyter lab --notebook-dir C:\\notebooks"
   ]
  },
  {
   "cell_type": "markdown",
   "id": "d6a4ef99-77ec-489c-91a1-7a2abfbde219",
   "metadata": {},
   "source": [
    "## Installing QGIS\n",
    "\n",
    "The focus of this course is using Python for geospatial data processing. Using a GIS is not mandatory, but it is always good to have a GIS installed, be it as simple viewer or more.\n",
    "\n",
    "The open source QGIS is good way to learn all about GIS Software: https://www.qgis.org/en/site/forusers/download.html\n",
    "\n",
    "\n",
    "\n",
    "If you are interested in an overview of GIS Software, check out this site: https://gisgeography.com/best-gis-software/"
   ]
  },
  {
   "cell_type": "code",
   "execution_count": null,
   "id": "4e571328-10e8-45a7-bffe-b00ca2fbb86a",
   "metadata": {},
   "outputs": [],
   "source": []
  }
 ],
 "metadata": {
  "kernelspec": {
   "display_name": "Python 3 (ipykernel)",
   "language": "python",
   "name": "python3"
  },
  "language_info": {
   "codemirror_mode": {
    "name": "ipython",
    "version": 3
   },
   "file_extension": ".py",
   "mimetype": "text/x-python",
   "name": "python",
   "nbconvert_exporter": "python",
   "pygments_lexer": "ipython3",
   "version": "3.10.10"
  }
 },
 "nbformat": 4,
 "nbformat_minor": 5
}
