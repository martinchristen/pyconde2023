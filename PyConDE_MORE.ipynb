{
 "cells": [
  {
   "cell_type": "markdown",
   "id": "2b06866e-92bd-4eae-8b27-11c6c5105bad",
   "metadata": {},
   "source": [
    "## Interested in more ?\n",
    "\n",
    "* sign up for the upcoming online course: www.geopython.xyz\n",
    "\n",
    "* Come to Barcamp in Rügen, June 25-26, 2023: https://barcamps.eu/pyr2023/\n",
    "\n"
   ]
  },
  {
   "cell_type": "code",
   "execution_count": null,
   "id": "2ca14fe1-b9c6-4981-9bdf-0d7ad1e216f8",
   "metadata": {},
   "outputs": [],
   "source": []
  }
 ],
 "metadata": {
  "kernelspec": {
   "display_name": "Python 3 (ipykernel)",
   "language": "python",
   "name": "python3"
  },
  "language_info": {
   "codemirror_mode": {
    "name": "ipython",
    "version": 3
   },
   "file_extension": ".py",
   "mimetype": "text/x-python",
   "name": "python",
   "nbconvert_exporter": "python",
   "pygments_lexer": "ipython3",
   "version": "3.10.10"
  }
 },
 "nbformat": 4,
 "nbformat_minor": 5
}
