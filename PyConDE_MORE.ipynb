{
 "cells": [
  {
   "cell_type": "markdown",
   "id": "2b06866e-92bd-4eae-8b27-11c6c5105bad",
   "metadata": {},
   "source": [
    "## Interested in more ?\n",
    "\n",
    "* sign up for the upcoming online course: geopython.xyz\n",
    "\n",
    "* Come to Barcamp in Rügen, June 25-26, 2023: https://barcamps.eu/pyr2023/\n",
    "\n"
   ]
  }
 ],
 "metadata": {
  "kernelspec": {
   "display_name": "Python 3 (ipykernel)",
   "language": "python",
   "name": "python3"
  },
  "language_info": {
   "codemirror_mode": {
    "name": "ipython",
    "version": 3
   },
   "file_extension": ".py",
   "mimetype": "text/x-python",
   "name": "python",
   "nbconvert_exporter": "python",
   "pygments_lexer": "ipython3",
   "version": "3.10.10"
  }
 },
 "nbformat": 4,
 "nbformat_minor": 5
}
