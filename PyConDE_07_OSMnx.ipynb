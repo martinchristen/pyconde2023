{
 "cells": [
  {
   "cell_type": "markdown",
   "metadata": {},
   "source": [
    "# OSMnx\n",
    "\n",
    "https://osmnx.readthedocs.io/en/stable/\n",
    "\n",
    "OSMnx is a Python package that lets you download geospatial data from OpenStreetMap and model, project, visualize, and analyze real-world street networks and any other geospatial geometries.\n"
   ]
  },
  {
   "cell_type": "code",
   "execution_count": null,
   "metadata": {},
   "outputs": [],
   "source": [
    "import osmnx as ox\n",
    "import networkx as nx\n",
    "import pandas as pd\n",
    "import geopandas as gpd\n",
    "import matplotlib.pyplot as plt\n",
    "import seaborn as sns\n",
    "import folium"
   ]
  },
  {
   "cell_type": "code",
   "execution_count": null,
   "metadata": {},
   "outputs": [],
   "source": [
    "ox.settings.use_cache = True\n",
    "ox.settings.log_console=True"
   ]
  },
  {
   "cell_type": "markdown",
   "metadata": {},
   "source": [
    "### Retrieve Street Network from OSM Data\n",
    "\n",
    "* drive - get drivable public streets (but not service roads)\n",
    "* drive_service - get drivable streets, including service roads\n",
    "* walk - get all streets and paths that pedestrians can use (this network type ignores one-way directionality)\n",
    "* bike - get all streets and paths that cyclists can use\n",
    "* all - download all non-private OSM streets and paths\n",
    "* all_private - download all OSM streets and paths, including private-access ones\n",
    "\n",
    "\n",
    "Functions:\n",
    "\n",
    "\n",
    "* graph.graph_from_bbox\n",
    "* graph.graph_from_address\n",
    "* graph.graph_from_place\n",
    "* graph.graph_from_point\n",
    "\n"
   ]
  },
  {
   "cell_type": "code",
   "execution_count": null,
   "metadata": {},
   "outputs": [],
   "source": [
    "place = \"Basel, Switzerland\"\n",
    "graph = ox.graph.graph_from_place(place, network_type='drive')"
   ]
  },
  {
   "cell_type": "code",
   "execution_count": null,
   "metadata": {},
   "outputs": [],
   "source": [
    "fig, ax = ox.plot.plot_graph(graph)"
   ]
  },
  {
   "cell_type": "markdown",
   "metadata": {},
   "source": [
    "#### Save Graph as GeoPackage\n",
    "\n",
    "There are two layers:\n",
    "\n",
    "* edges\n",
    "* nodes\n"
   ]
  },
  {
   "cell_type": "code",
   "execution_count": null,
   "metadata": {},
   "outputs": [],
   "source": [
    "ox.io.save_graph_geopackage(graph, filepath='geodata/network-shape.gpkg')"
   ]
  },
  {
   "cell_type": "code",
   "execution_count": null,
   "metadata": {},
   "outputs": [],
   "source": [
    "nodes, streets = ox.graph_to_gdfs(graph)"
   ]
  },
  {
   "cell_type": "code",
   "execution_count": null,
   "metadata": {},
   "outputs": [],
   "source": [
    "len(streets)"
   ]
  },
  {
   "cell_type": "code",
   "execution_count": null,
   "metadata": {},
   "outputs": [],
   "source": [
    "streets.head()"
   ]
  },
  {
   "cell_type": "code",
   "execution_count": null,
   "metadata": {},
   "outputs": [],
   "source": [
    "street_types = pd.DataFrame(streets[\"highway\"].apply(pd.Series)[0].value_counts().reset_index())\n",
    "street_types.columns = [\"type\", \"count\"]"
   ]
  },
  {
   "cell_type": "code",
   "execution_count": null,
   "metadata": {},
   "outputs": [],
   "source": [
    "street_types"
   ]
  },
  {
   "cell_type": "code",
   "execution_count": null,
   "metadata": {},
   "outputs": [],
   "source": [
    "fig, ax = plt.subplots(figsize=(8,5))\n",
    "sns.barplot(y=\"type\", x=\"count\", data=street_types, ax=ax)\n",
    "plt.tight_layout()\n",
    "plt.show();"
   ]
  },
  {
   "cell_type": "markdown",
   "metadata": {},
   "source": [
    "### Putting the Street Network on a Folium Map"
   ]
  },
  {
   "cell_type": "code",
   "execution_count": null,
   "metadata": {},
   "outputs": [],
   "source": [
    "m = folium.Map([47.561086, 7.588686],\n",
    "zoom_start=13,tiles=\"CartoDB dark_matter\")\n",
    "\n",
    "jsondata = streets.to_json()\n",
    "\n",
    "style = {'color': '#FFDD66', \n",
    "         'weight':'1'}\n",
    "folium.GeoJson(jsondata, style_function=lambda x: style).add_to(m)\n",
    "m"
   ]
  },
  {
   "cell_type": "markdown",
   "metadata": {},
   "source": [
    "### Routing\n",
    "\n",
    "There are two train stations in Basel, lets find the route between them:"
   ]
  },
  {
   "cell_type": "code",
   "execution_count": null,
   "metadata": {},
   "outputs": [],
   "source": [
    "train_station_1 = ox.geocode('Badischer Bahnhof, Basel Switzerland')\n",
    "train_station_1"
   ]
  },
  {
   "cell_type": "code",
   "execution_count": null,
   "metadata": {},
   "outputs": [],
   "source": [
    "ox.geocode('Alexanderplatz, Berlin, Germany')"
   ]
  },
  {
   "cell_type": "code",
   "execution_count": null,
   "metadata": {},
   "outputs": [],
   "source": [
    "train_station_2 = ox.geocode('Bahnhof SBB, Basel, Switzerland')\n",
    "train_station_2"
   ]
  },
  {
   "cell_type": "markdown",
   "metadata": {},
   "source": [
    "#### Let's add them as POI to the map **above**:"
   ]
  },
  {
   "cell_type": "code",
   "execution_count": null,
   "metadata": {},
   "outputs": [],
   "source": [
    "m = folium.Map([47.561086, 7.588686], zoom_start=13,tiles=\"CartoDB dark_matter\")\n",
    "\n",
    "#jsondata = streets.to_json()\n",
    "\n",
    "style = {'color': '#FFDD66', \n",
    "         'weight':'1'}\n",
    "folium.GeoJson(jsondata, style_function=lambda x: style).add_to(m)\n",
    "\n",
    "folium.Marker(train_station_1, \n",
    "              popup=\"Badischer Bahnhof\",\n",
    "              icon=folium.Icon(color=\"green\", prefix=\"fa\", icon=\"train\")).add_to(m)\n",
    "\n",
    "folium.Marker(train_station_2, \n",
    "              popup=\"Bahnhof SBB\",\n",
    "              icon=folium.Icon(color=\"red\", prefix=\"fa\", icon=\"train\")).add_to(m)\n",
    "m"
   ]
  },
  {
   "cell_type": "code",
   "execution_count": null,
   "metadata": {},
   "outputs": [],
   "source": [
    "origin_node = ox.distance.nearest_nodes(graph, train_station_1[1], train_station_1[0])  # G, X, Y    Longitude first!\n",
    "destination_node = ox.distance.nearest_nodes(graph, train_station_2[1], train_station_2[0])"
   ]
  },
  {
   "cell_type": "markdown",
   "metadata": {},
   "source": [
    "#### Find the route between the nodes\n",
    "\n",
    "Using NetworkX module to calculate"
   ]
  },
  {
   "cell_type": "code",
   "execution_count": null,
   "metadata": {},
   "outputs": [],
   "source": [
    "route = nx.shortest_path(graph, origin_node, destination_node)"
   ]
  },
  {
   "cell_type": "code",
   "execution_count": null,
   "metadata": {},
   "outputs": [],
   "source": [
    "fig, ax = ox.plot_graph_route(graph, route)"
   ]
  },
  {
   "cell_type": "code",
   "execution_count": null,
   "metadata": {},
   "outputs": [],
   "source": [
    "from shapely.geometry import LineString\n",
    "\n",
    "line = []\n",
    "for i in route:\n",
    "    point = (graph.nodes[i]['x'],graph.nodes[i]['y'])\n",
    "    line.append(point)\n",
    "    print(point)\n",
    "    \n",
    "ls = LineString(line)"
   ]
  },
  {
   "cell_type": "markdown",
   "metadata": {},
   "source": [
    "#### Create a GeoDataFrame from the LineString (optional)\n"
   ]
  },
  {
   "cell_type": "code",
   "execution_count": null,
   "metadata": {},
   "outputs": [],
   "source": [
    "gdf_route = pd.DataFrame(data= [['route 1',ls]],columns=['route','geometry'])\n",
    "gdf_route"
   ]
  },
  {
   "cell_type": "code",
   "execution_count": null,
   "metadata": {},
   "outputs": [],
   "source": [
    "gdf_route = gpd.GeoDataFrame(gdf_route,geometry='geometry')\n",
    "gdf_route"
   ]
  },
  {
   "cell_type": "code",
   "execution_count": null,
   "metadata": {},
   "outputs": [],
   "source": [
    "gdf_route.plot();"
   ]
  },
  {
   "cell_type": "markdown",
   "metadata": {},
   "source": [
    "Convert this route to GeoJSON"
   ]
  },
  {
   "cell_type": "code",
   "execution_count": null,
   "metadata": {},
   "outputs": [],
   "source": [
    "jsonroute = gdf_route.to_json()"
   ]
  },
  {
   "cell_type": "code",
   "execution_count": null,
   "metadata": {},
   "outputs": [],
   "source": [
    "m = folium.Map([47.561086, 7.588686], zoom_start=13,tiles=\"CartoDB dark_matter\")\n",
    "\n",
    "#jsondata = streets.to_json()\n",
    "\n",
    "style = {'color': '#FFDD66', \n",
    "         'weight':'1'}\n",
    "\n",
    "route_style = {'color': '#FF0000',\n",
    "              'weight' : '4'}\n",
    "\n",
    "folium.GeoJson(jsondata, style_function=lambda x: style).add_to(m)\n",
    "folium.GeoJson(jsonroute, style_function=lambda x: route_style).add_to(m)\n",
    "\n",
    "folium.Marker(train_station_1, \n",
    "              popup=\"Badischer Bahnhof\",\n",
    "              icon=folium.Icon(color=\"green\", prefix=\"fa\", icon=\"train\")).add_to(m)\n",
    "\n",
    "folium.Marker(train_station_2, \n",
    "              popup=\"Bahnhof SBB\",\n",
    "              icon=folium.Icon(color=\"red\", prefix=\"fa\", icon=\"train\")).add_to(m)\n",
    "m"
   ]
  }
 ],
 "metadata": {
  "kernelspec": {
   "display_name": "Python 3 (ipykernel)",
   "language": "python",
   "name": "python3"
  },
  "language_info": {
   "codemirror_mode": {
    "name": "ipython",
    "version": 3
   },
   "file_extension": ".py",
   "mimetype": "text/x-python",
   "name": "python",
   "nbconvert_exporter": "python",
   "pygments_lexer": "ipython3",
   "version": "3.10.10"
  }
 },
 "nbformat": 4,
 "nbformat_minor": 4
}
